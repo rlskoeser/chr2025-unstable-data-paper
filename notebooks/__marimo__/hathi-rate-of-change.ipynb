{
 "cells": [
  {
   "cell_type": "code",
   "execution_count": null,
   "id": "Hbol",
   "metadata": {},
   "outputs": [],
   "source": [
    "import pathlib\n",
    "\n",
    "import marimo as mo\n",
    "import polars as pl"
   ]
  },
  {
   "cell_type": "code",
   "execution_count": null,
   "id": "MJUe",
   "metadata": {},
   "outputs": [
    {
     "data": {
      "application/json": "[\"htid\", \"access\", \"rights\", \"ht_bib_key\", \"description\", \"source\", \"source_bib_num\", \"oclc_num\", \"isbn\", \"issn\", \"lccn\", \"title\", \"imprint\", \"rights_reason_code\", \"rights_timestamp\", \"us_gov_doc_flag\", \"rights_date_used\", \"pub_place\", \"lang\", \"bib_fmt\", \"collection_code\", \"content_provider_code\", \"responsible_entity_code\", \"digitization_agent_code\", \"access_profile_code\", \"author\"]"
     },
     "metadata": {},
     "output_type": "display_data"
    }
   ],
   "source": [
    "hathi_data_dir = pathlib.Path(\"data/hathi/updates\")\n",
    "\n",
    "field_list = (hathi_data_dir / \"hathi_field_list.txt\").open().read().split()\n",
    "field_list"
   ]
  },
  {
   "cell_type": "code",
   "execution_count": null,
   "id": "vblA",
   "metadata": {},
   "outputs": [
    {
     "data": {
      "text/html": [
       "<marimo-ui-element object-id='vblA-0' random-id='99e7691d-777f-c93c-ff50-75188b2b67fc'><marimo-table data-initial-value='[]' data-label='null' data-data='&quot;[{&#92;&quot;htid&#92;&quot;:&#92;&quot;mdp.39015018415946&#92;&quot;,&#92;&quot;access&#92;&quot;:&#92;&quot;deny&#92;&quot;,&#92;&quot;rights&#92;&quot;:&#92;&quot;ic&#92;&quot;,&#92;&quot;collection_code&#92;&quot;:&#92;&quot;MIU&#92;&quot;,&#92;&quot;access_profile_code&#92;&quot;:&#92;&quot;google&#92;&quot;},{&#92;&quot;htid&#92;&quot;:&#92;&quot;mdp.39015066356547&#92;&quot;,&#92;&quot;access&#92;&quot;:&#92;&quot;deny&#92;&quot;,&#92;&quot;rights&#92;&quot;:&#92;&quot;ic&#92;&quot;,&#92;&quot;collection_code&#92;&quot;:&#92;&quot;MIU&#92;&quot;,&#92;&quot;access_profile_code&#92;&quot;:&#92;&quot;google&#92;&quot;},{&#92;&quot;htid&#92;&quot;:&#92;&quot;mdp.39015066356406&#92;&quot;,&#92;&quot;access&#92;&quot;:&#92;&quot;deny&#92;&quot;,&#92;&quot;rights&#92;&quot;:&#92;&quot;ic&#92;&quot;,&#92;&quot;collection_code&#92;&quot;:&#92;&quot;MIU&#92;&quot;,&#92;&quot;access_profile_code&#92;&quot;:&#92;&quot;google&#92;&quot;},{&#92;&quot;htid&#92;&quot;:&#92;&quot;mdp.39015066356695&#92;&quot;,&#92;&quot;access&#92;&quot;:&#92;&quot;deny&#92;&quot;,&#92;&quot;rights&#92;&quot;:&#92;&quot;ic&#92;&quot;,&#92;&quot;collection_code&#92;&quot;:&#92;&quot;MIU&#92;&quot;,&#92;&quot;access_profile_code&#92;&quot;:&#92;&quot;google&#92;&quot;},{&#92;&quot;htid&#92;&quot;:&#92;&quot;mdp.39015066356554&#92;&quot;,&#92;&quot;access&#92;&quot;:&#92;&quot;deny&#92;&quot;,&#92;&quot;rights&#92;&quot;:&#92;&quot;ic&#92;&quot;,&#92;&quot;collection_code&#92;&quot;:&#92;&quot;MIU&#92;&quot;,&#92;&quot;access_profile_code&#92;&quot;:&#92;&quot;google&#92;&quot;},{&#92;&quot;htid&#92;&quot;:&#92;&quot;uc1.&#36;b759626&#92;&quot;,&#92;&quot;access&#92;&quot;:&#92;&quot;deny&#92;&quot;,&#92;&quot;rights&#92;&quot;:&#92;&quot;ic&#92;&quot;,&#92;&quot;collection_code&#92;&quot;:&#92;&quot;NRLF&#92;&quot;,&#92;&quot;access_profile_code&#92;&quot;:&#92;&quot;google&#92;&quot;},{&#92;&quot;htid&#92;&quot;:&#92;&quot;uc1.&#36;b759627&#92;&quot;,&#92;&quot;access&#92;&quot;:&#92;&quot;deny&#92;&quot;,&#92;&quot;rights&#92;&quot;:&#92;&quot;ic&#92;&quot;,&#92;&quot;collection_code&#92;&quot;:&#92;&quot;NRLF&#92;&quot;,&#92;&quot;access_profile_code&#92;&quot;:&#92;&quot;google&#92;&quot;},{&#92;&quot;htid&#92;&quot;:&#92;&quot;uc1.&#36;b759628&#92;&quot;,&#92;&quot;access&#92;&quot;:&#92;&quot;deny&#92;&quot;,&#92;&quot;rights&#92;&quot;:&#92;&quot;ic&#92;&quot;,&#92;&quot;collection_code&#92;&quot;:&#92;&quot;NRLF&#92;&quot;,&#92;&quot;access_profile_code&#92;&quot;:&#92;&quot;google&#92;&quot;},{&#92;&quot;htid&#92;&quot;:&#92;&quot;mdp.39015033913115&#92;&quot;,&#92;&quot;access&#92;&quot;:&#92;&quot;deny&#92;&quot;,&#92;&quot;rights&#92;&quot;:&#92;&quot;ic&#92;&quot;,&#92;&quot;collection_code&#92;&quot;:&#92;&quot;MIU&#92;&quot;,&#92;&quot;access_profile_code&#92;&quot;:&#92;&quot;google&#92;&quot;},{&#92;&quot;htid&#92;&quot;:&#92;&quot;mdp.39015061455294&#92;&quot;,&#92;&quot;access&#92;&quot;:&#92;&quot;deny&#92;&quot;,&#92;&quot;rights&#92;&quot;:&#92;&quot;ic&#92;&quot;,&#92;&quot;collection_code&#92;&quot;:&#92;&quot;MIU&#92;&quot;,&#92;&quot;access_profile_code&#92;&quot;:&#92;&quot;google&#92;&quot;}]&quot;' data-total-rows='10' data-total-columns='5' data-max-columns='50' data-banner-text='&quot;&quot;' data-pagination='true' data-page-size='10' data-field-types='[[&quot;htid&quot;, [&quot;string&quot;, &quot;str&quot;]], [&quot;access&quot;, [&quot;string&quot;, &quot;str&quot;]], [&quot;rights&quot;, [&quot;string&quot;, &quot;str&quot;]], [&quot;collection_code&quot;, [&quot;string&quot;, &quot;str&quot;]], [&quot;access_profile_code&quot;, [&quot;string&quot;, &quot;str&quot;]]]' data-show-filters='true' data-show-download='true' data-show-column-summaries='false' data-row-headers='[]' data-has-stable-row-id='false' data-lazy='false' data-preload='false'></marimo-table></marimo-ui-element>"
      ]
     },
     "metadata": {},
     "output_type": "display_data"
    }
   ],
   "source": [
    "# load most recent full dataset with specified field list; treat as TSV\n",
    "\n",
    "df = (\n",
    "    pl.scan_csv(\n",
    "        hathi_data_dir / \"hathi_full_20250701.txt.gz\",\n",
    "        has_header=False,\n",
    "        new_columns=field_list,\n",
    "        separator=\"\\t\",\n",
    "        quote_char=None,  # do not treat \" as escape character, since it is used in some content\n",
    "        encoding=\"utf8\",\n",
    "    )\n",
    "    .select(\n",
    "        [\"htid\", \"access\", \"rights\", \"collection_code\", \"access_profile_code\"]\n",
    "    )\n",
    "    .collect()\n",
    ")\n",
    "\n",
    "df.head(10)"
   ]
  },
  {
   "cell_type": "code",
   "execution_count": null,
   "id": "bkHC",
   "metadata": {},
   "outputs": [
    {
     "name": "stdout",
     "output_type": "stream",
     "text": [
      "18,920,632 total volumes\n"
     ]
    }
   ],
   "source": [
    "total_ht_vols = df.height\n",
    "\n",
    "print(f\"{total_ht_vols:,} total volumes\")"
   ]
  },
  {
   "cell_type": "code",
   "execution_count": null,
   "id": "lEQa",
   "metadata": {},
   "outputs": [
    {
     "data": {
      "text/html": [
       "<marimo-ui-element object-id='lEQa-0' random-id='1e8f49bc-8fec-efac-8ce0-2b814cb08a0a'><marimo-table data-initial-value='[]' data-label='null' data-data='&quot;[{&#92;&quot;rights&#92;&quot;:&#92;&quot;nobody&#92;&quot;,&#92;&quot;count&#92;&quot;:1145},{&#92;&quot;rights&#92;&quot;:&#92;&quot;icus&#92;&quot;,&#92;&quot;count&#92;&quot;:69697},{&#92;&quot;rights&#92;&quot;:&#92;&quot;cc-by-sa-3.0&#92;&quot;,&#92;&quot;count&#92;&quot;:94},{&#92;&quot;rights&#92;&quot;:&#92;&quot;cc-by-4.0&#92;&quot;,&#92;&quot;count&#92;&quot;:27460},{&#92;&quot;rights&#92;&quot;:&#92;&quot;pd-pvt&#92;&quot;,&#92;&quot;count&#92;&quot;:1532},{&#92;&quot;rights&#92;&quot;:&#92;&quot;cc-by-nc-nd-4.0&#92;&quot;,&#92;&quot;count&#92;&quot;:21010},{&#92;&quot;rights&#92;&quot;:&#92;&quot;ic-world&#92;&quot;,&#92;&quot;count&#92;&quot;:7697},{&#92;&quot;rights&#92;&quot;:&#92;&quot;cc-by-3.0&#92;&quot;,&#92;&quot;count&#92;&quot;:882},{&#92;&quot;rights&#92;&quot;:&#92;&quot;cc-by-nc-sa-4.0&#92;&quot;,&#92;&quot;count&#92;&quot;:1666},{&#92;&quot;rights&#92;&quot;:&#92;&quot;cc-by-nd-4.0&#92;&quot;,&#92;&quot;count&#92;&quot;:881}]&quot;' data-total-rows='23' data-total-columns='2' data-max-columns='50' data-banner-text='&quot;&quot;' data-pagination='true' data-page-size='10' data-field-types='[[&quot;rights&quot;, [&quot;string&quot;, &quot;str&quot;]], [&quot;count&quot;, [&quot;integer&quot;, &quot;u32&quot;]]]' data-show-filters='true' data-show-download='true' data-show-column-summaries='true' data-row-headers='[]' data-has-stable-row-id='false' data-lazy='false' data-preload='false'></marimo-table></marimo-ui-element>"
      ]
     },
     "metadata": {},
     "output_type": "display_data"
    }
   ],
   "source": [
    "df[\"rights\"].value_counts()"
   ]
  },
  {
   "cell_type": "code",
   "execution_count": null,
   "id": "PKri",
   "metadata": {},
   "outputs": [
    {
     "data": {
      "text/html": [
       "<marimo-ui-element object-id='PKri-0' random-id='3ed989b0-f406-680c-5c14-9538cfa22596'><marimo-table data-initial-value='[]' data-label='null' data-data='&quot;[{&#92;&quot;access&#92;&quot;:&#92;&quot;deny&#92;&quot;,&#92;&quot;count&#92;&quot;:10999205},{&#92;&quot;access&#92;&quot;:&#92;&quot;allow&#92;&quot;,&#92;&quot;count&#92;&quot;:7921427}]&quot;' data-total-rows='2' data-total-columns='2' data-max-columns='50' data-banner-text='&quot;&quot;' data-pagination='true' data-page-size='10' data-field-types='[[&quot;access&quot;, [&quot;string&quot;, &quot;str&quot;]], [&quot;count&quot;, [&quot;integer&quot;, &quot;u32&quot;]]]' data-show-filters='true' data-show-download='true' data-show-column-summaries='false' data-row-headers='[]' data-has-stable-row-id='false' data-lazy='false' data-preload='false'></marimo-table></marimo-ui-element>"
      ]
     },
     "metadata": {},
     "output_type": "display_data"
    }
   ],
   "source": [
    "df[\"access\"].value_counts()"
   ]
  },
  {
   "cell_type": "code",
   "execution_count": null,
   "id": "Xref",
   "metadata": {},
   "outputs": [
    {
     "data": {
      "text/html": [
       "<marimo-ui-element object-id='Xref-0' random-id='63d62bc0-1c1a-7979-ff3c-2b554678cc3d'><marimo-table data-initial-value='[]' data-label='null' data-data='&quot;[{&#92;&quot;access_profile_code&#92;&quot;:&#92;&quot;page+lowres&#92;&quot;,&#92;&quot;count&#92;&quot;:21218},{&#92;&quot;access_profile_code&#92;&quot;:&#92;&quot;google&#92;&quot;,&#92;&quot;count&#92;&quot;:17759424},{&#92;&quot;access_profile_code&#92;&quot;:&#92;&quot;open&#92;&quot;,&#92;&quot;count&#92;&quot;:1138679},{&#92;&quot;access_profile_code&#92;&quot;:&#92;&quot;page&#92;&quot;,&#92;&quot;count&#92;&quot;:1311}]&quot;' data-total-rows='4' data-total-columns='2' data-max-columns='50' data-banner-text='&quot;&quot;' data-pagination='true' data-page-size='10' data-field-types='[[&quot;access_profile_code&quot;, [&quot;string&quot;, &quot;str&quot;]], [&quot;count&quot;, [&quot;integer&quot;, &quot;u32&quot;]]]' data-show-filters='true' data-show-download='true' data-show-column-summaries='false' data-row-headers='[]' data-has-stable-row-id='false' data-lazy='false' data-preload='false'></marimo-table></marimo-ui-element>"
      ]
     },
     "metadata": {},
     "output_type": "display_data"
    }
   ],
   "source": [
    "df[\"access_profile_code\"].value_counts()"
   ]
  },
  {
   "cell_type": "markdown",
   "id": "SFPL",
   "metadata": {
    "marimo": {
     "config": {
      "hide_code": true
     }
    }
   },
   "source": [
    "Load PPA data so we can get counts for items in PPA changing as well as all of HT."
   ]
  },
  {
   "cell_type": "code",
   "execution_count": null,
   "id": "BYtC",
   "metadata": {},
   "outputs": [
    {
     "data": {
      "text/html": [
       "<marimo-ui-element object-id='BYtC-0' random-id='4b01a7c9-2827-a588-8202-684ad423c1f2'><marimo-table data-initial-value='[]' data-label='null' data-data='&quot;[{&#92;&quot;ppa_work_id&#92;&quot;:&#92;&quot;aeu.ark:/13960/t0ft9gj3x&#92;&quot;,&#92;&quot;ppa_source_id&#92;&quot;:&#92;&quot;aeu.ark:/13960/t0ft9gj3x&#92;&quot;,&#92;&quot;ppa_cluster_id&#92;&quot;:&#92;&quot;aeu.ark:/13960/t0ft9gj3x&#92;&quot;,&#92;&quot;ppa_work_title&#92;&quot;:&#92;&quot;Treatise on French pronunciation and genders&#92;&quot;,&#92;&quot;ppa_work_author&#92;&quot;:&#92;&quot;Lafont, J. B. Angelvy&#92;&quot;,&#92;&quot;ppa_work_year&#92;&quot;:1864,&#92;&quot;ppa_source&#92;&quot;:&#92;&quot;HathiTrust&#92;&quot;,&#92;&quot;ppa_collections&#92;&quot;:&#92;&quot;[&#x27;Linguistic&#x27;]&#92;&quot;},{&#92;&quot;ppa_work_id&#92;&quot;:&#92;&quot;aeu.ark:/13960/t1hh7pc2q&#92;&quot;,&#92;&quot;ppa_source_id&#92;&quot;:&#92;&quot;aeu.ark:/13960/t1hh7pc2q&#92;&quot;,&#92;&quot;ppa_cluster_id&#92;&quot;:&#92;&quot;aeu.ark:/13960/t1hh7pc2q&#92;&quot;,&#92;&quot;ppa_work_title&#92;&quot;:&#92;&quot;An essay on the elements, accents, &amp; prosody, of the English language&#92;&quot;,&#92;&quot;ppa_work_author&#92;&quot;:&#92;&quot;Odell, Jonathan, 1737-1818&#92;&quot;,&#92;&quot;ppa_work_year&#92;&quot;:1805,&#92;&quot;ppa_source&#92;&quot;:&#92;&quot;HathiTrust&#92;&quot;,&#92;&quot;ppa_collections&#92;&quot;:&#92;&quot;[&#x27;Literary&#x27;, &#x27;Typographically Unique&#x27;]&#92;&quot;},{&#92;&quot;ppa_work_id&#92;&quot;:&#92;&quot;aeu.ark:/13960/t1pg22p71-p126&#92;&quot;,&#92;&quot;ppa_source_id&#92;&quot;:&#92;&quot;aeu.ark:/13960/t1pg22p71&#92;&quot;,&#92;&quot;ppa_cluster_id&#92;&quot;:&#92;&quot;aeu.ark:/13960/t1pg22p71-p126&#92;&quot;,&#92;&quot;ppa_work_title&#92;&quot;:&#92;&quot;On the Galliambic Metre&#92;&quot;,&#92;&quot;ppa_work_author&#92;&quot;:&#92;&quot;Allen, [Charles] Grant [Blairfindie].&#92;&quot;,&#92;&quot;ppa_work_year&#92;&quot;:1892,&#92;&quot;ppa_source&#92;&quot;:&#92;&quot;HathiTrust&#92;&quot;,&#92;&quot;ppa_collections&#92;&quot;:&#92;&quot;[&#x27;Literary&#x27;, &#x27;Original Bibliography&#x27;, &#x27;Typographically Unique&#x27;]&#92;&quot;},{&#92;&quot;ppa_work_id&#92;&quot;:&#92;&quot;aeu.ark:/13960/t3514pf3k&#92;&quot;,&#92;&quot;ppa_source_id&#92;&quot;:&#92;&quot;aeu.ark:/13960/t3514pf3k&#92;&quot;,&#92;&quot;ppa_cluster_id&#92;&quot;:&#92;&quot;aeu.ark:/13960/t3514pf3k&#92;&quot;,&#92;&quot;ppa_work_title&#92;&quot;:&#92;&quot;An elementary Greek grammar&#92;&quot;,&#92;&quot;ppa_work_author&#92;&quot;:&#92;&quot;Goodwin, William W. (William Watson), 1831-1912&#92;&quot;,&#92;&quot;ppa_work_year&#92;&quot;:1879,&#92;&quot;ppa_source&#92;&quot;:&#92;&quot;HathiTrust&#92;&quot;,&#92;&quot;ppa_collections&#92;&quot;:&#92;&quot;[&#x27;Linguistic&#x27;]&#92;&quot;},{&#92;&quot;ppa_work_id&#92;&quot;:&#92;&quot;aeu.ark:/13960/t3jw96h3m&#92;&quot;,&#92;&quot;ppa_source_id&#92;&quot;:&#92;&quot;aeu.ark:/13960/t3jw96h3m&#92;&quot;,&#92;&quot;ppa_cluster_id&#92;&quot;:&#92;&quot;aeu.ark:/13960/t3jw96h3m&#92;&quot;,&#92;&quot;ppa_work_title&#92;&quot;:&#92;&quot;Metra horatiana, or, The metrical systems of Horace&#92;&quot;,&#92;&quot;ppa_work_author&#92;&quot;:&#92;&quot;Lundy, F. J.&#92;&quot;,&#92;&quot;ppa_work_year&#92;&quot;:1838,&#92;&quot;ppa_source&#92;&quot;:&#92;&quot;HathiTrust&#92;&quot;,&#92;&quot;ppa_collections&#92;&quot;:&#92;&quot;[&#x27;Literary&#x27;]&#92;&quot;},{&#92;&quot;ppa_work_id&#92;&quot;:&#92;&quot;aeu.ark:/13960/t5s75qs8g&#92;&quot;,&#92;&quot;ppa_source_id&#92;&quot;:&#92;&quot;aeu.ark:/13960/t5s75qs8g&#92;&quot;,&#92;&quot;ppa_cluster_id&#92;&quot;:&#92;&quot;aeu.ark:/13960/t5s75qs8g&#92;&quot;,&#92;&quot;ppa_work_title&#92;&quot;:&#92;&quot;Pentasyllabic endings in the Latin hexameter with particular reference to the verse of Lucretius&#92;&quot;,&#92;&quot;ppa_work_author&#92;&quot;:&#92;&quot;Alexander, William Hardy, 1878-1962&#92;&quot;,&#92;&quot;ppa_work_year&#92;&quot;:1900,&#92;&quot;ppa_source&#92;&quot;:&#92;&quot;HathiTrust&#92;&quot;,&#92;&quot;ppa_collections&#92;&quot;:&#92;&quot;[&#x27;Literary&#x27;]&#92;&quot;},{&#92;&quot;ppa_work_id&#92;&quot;:&#92;&quot;aeu.ark:/13960/t7qn72r42&#92;&quot;,&#92;&quot;ppa_source_id&#92;&quot;:&#92;&quot;aeu.ark:/13960/t7qn72r42&#92;&quot;,&#92;&quot;ppa_cluster_id&#92;&quot;:&#92;&quot;aeu.ark:/13960/t7qn72r42&#92;&quot;,&#92;&quot;ppa_work_title&#92;&quot;:&#92;&quot;Brief rules of the Latin prosody&#92;&quot;,&#92;&quot;ppa_work_author&#92;&quot;:&#92;&quot;Cochran, William, 1757-1833&#92;&quot;,&#92;&quot;ppa_work_year&#92;&quot;:1899,&#92;&quot;ppa_source&#92;&quot;:&#92;&quot;HathiTrust&#92;&quot;,&#92;&quot;ppa_collections&#92;&quot;:&#92;&quot;[&#x27;Literary&#x27;]&#92;&quot;},{&#92;&quot;ppa_work_id&#92;&quot;:&#92;&quot;aeu.ark:/13960/t8v98vx29&#92;&quot;,&#92;&quot;ppa_source_id&#92;&quot;:&#92;&quot;aeu.ark:/13960/t8v98vx29&#92;&quot;,&#92;&quot;ppa_cluster_id&#92;&quot;:&#92;&quot;aeu.ark:/13960/t8v98vx29&#92;&quot;,&#92;&quot;ppa_work_title&#92;&quot;:&#92;&quot;Introduction to the science of language&#92;&quot;,&#92;&quot;ppa_work_author&#92;&quot;:&#92;&quot;Sayce, A. H. (Archibald Henry), 1845-1933&#92;&quot;,&#92;&quot;ppa_work_year&#92;&quot;:1900,&#92;&quot;ppa_source&#92;&quot;:&#92;&quot;HathiTrust&#92;&quot;,&#92;&quot;ppa_collections&#92;&quot;:&#92;&quot;[&#x27;Linguistic&#x27;]&#92;&quot;},{&#92;&quot;ppa_work_id&#92;&quot;:&#92;&quot;bc.ark:/13960/t2p63fq11&#92;&quot;,&#92;&quot;ppa_source_id&#92;&quot;:&#92;&quot;bc.ark:/13960/t2p63fq11&#92;&quot;,&#92;&quot;ppa_cluster_id&#92;&quot;:&#92;&quot;bc.ark:/13960/t2p63fq11&#92;&quot;,&#92;&quot;ppa_work_title&#92;&quot;:&#92;&quot;An introduction to Latin elegiac verse composition,&#92;&quot;,&#92;&quot;ppa_work_author&#92;&quot;:&#92;&quot;Lupton, J. H. (Joseph Hirst), 1836-1905&#92;&quot;,&#92;&quot;ppa_work_year&#92;&quot;:1913,&#92;&quot;ppa_source&#92;&quot;:&#92;&quot;HathiTrust&#92;&quot;,&#92;&quot;ppa_collections&#92;&quot;:&#92;&quot;[&#x27;Literary&#x27;]&#92;&quot;},{&#92;&quot;ppa_work_id&#92;&quot;:&#92;&quot;chi.084960397&#92;&quot;,&#92;&quot;ppa_source_id&#92;&quot;:&#92;&quot;chi.084960397&#92;&quot;,&#92;&quot;ppa_cluster_id&#92;&quot;:&#92;&quot;chi.084960397&#92;&quot;,&#92;&quot;ppa_work_title&#92;&quot;:&#92;&quot;A study of the principal Latin rhythms, other than the hexameter ...&#92;&quot;,&#92;&quot;ppa_work_author&#92;&quot;:&#92;&quot;Clough, Joseph W.&#92;&quot;,&#92;&quot;ppa_work_year&#92;&quot;:1879,&#92;&quot;ppa_source&#92;&quot;:&#92;&quot;HathiTrust&#92;&quot;,&#92;&quot;ppa_collections&#92;&quot;:&#92;&quot;[&#x27;Literary&#x27;]&#92;&quot;}]&quot;' data-total-rows='5539' data-total-columns='8' data-max-columns='50' data-banner-text='&quot;&quot;' data-pagination='true' data-page-size='10' data-field-types='[[&quot;ppa_work_id&quot;, [&quot;string&quot;, &quot;str&quot;]], [&quot;ppa_source_id&quot;, [&quot;string&quot;, &quot;str&quot;]], [&quot;ppa_cluster_id&quot;, [&quot;string&quot;, &quot;str&quot;]], [&quot;ppa_work_title&quot;, [&quot;string&quot;, &quot;str&quot;]], [&quot;ppa_work_author&quot;, [&quot;string&quot;, &quot;str&quot;]], [&quot;ppa_work_year&quot;, [&quot;integer&quot;, &quot;i64&quot;]], [&quot;ppa_source&quot;, [&quot;string&quot;, &quot;str&quot;]], [&quot;ppa_collections&quot;, [&quot;string&quot;, &quot;str&quot;]]]' data-show-filters='true' data-show-download='true' data-show-column-summaries='true' data-row-headers='[]' data-has-stable-row-id='false' data-lazy='false' data-preload='false'></marimo-table></marimo-ui-element>"
      ]
     },
     "metadata": {},
     "output_type": "display_data"
    }
   ],
   "source": [
    "# load PPA work-level metadata and limit to HathiTrust content\n",
    "ppa_ht_df = pl.read_csv(\"data/ppa/ppa_work_metadata.csv\").filter(\n",
    "    pl.col(\"ppa_source\").eq(\"HathiTrust\")\n",
    ")\n",
    "# get the total number of unique HT volumes in PPA; use unique since a few excerpts are from the same volume\n",
    "ppa_ht_total = ppa_ht_df[\"ppa_source_id\"].unique().len()\n",
    "\n",
    "ppa_ht_df"
   ]
  },
  {
   "cell_type": "code",
   "execution_count": null,
   "id": "RGSE",
   "metadata": {},
   "outputs": [
    {
     "name": "stdout",
     "output_type": "stream",
     "text": [
      "Error parsing hathi_upd_20250509.txt.gz : empty CSV\n"
     ]
    }
   ],
   "source": [
    "import datetime\n",
    "from polars.exceptions import NoDataError\n",
    "\n",
    "update_data = []\n",
    "\n",
    "for update_file in hathi_data_dir.glob(\"hathi_upd_*.txt.gz\"):\n",
    "    update_date_str = update_file.stem.rsplit(\"_\")[-1].replace(\".txt\", \"\")\n",
    "    update_date = datetime.datetime.strptime(update_date_str, \"%Y%m%d\").date()\n",
    "\n",
    "    # at least one file is actually empty; handle the error and skip\n",
    "    try:\n",
    "        update_df = (\n",
    "            pl.scan_csv(\n",
    "                update_file,\n",
    "                has_header=False,\n",
    "                new_columns=field_list,\n",
    "                separator=\"\\t\",\n",
    "                quote_char=None,  # do not treat \" as escape character, since it is used in smoe content\n",
    "                encoding=\"utf8\",\n",
    "            )\n",
    "            .select([\"htid\"])  # , \"access\", \"rights\", \"collection_code\"])\n",
    "            .collect()\n",
    "        )\n",
    "        # join with ppa data so we can count # ppa volumes that changed\n",
    "        ppa_updates_df = update_df.join(\n",
    "            ppa_ht_df, left_on=\"htid\", right_on=\"ppa_source_id\", how=\"inner\"\n",
    "        )\n",
    "\n",
    "        update_data.append(\n",
    "            {\n",
    "                \"date\": update_date,\n",
    "                \"num_updated\": update_df.height,\n",
    "                \"ppa_updated\": ppa_updates_df.height,\n",
    "            }\n",
    "        )\n",
    "    except NoDataError as err:\n",
    "        print(f\"Error parsing {update_file.name} : {err}\")"
   ]
  },
  {
   "cell_type": "code",
   "execution_count": null,
   "id": "Kclp",
   "metadata": {},
   "outputs": [
    {
     "data": {
      "text/html": [
       "<marimo-ui-element object-id='Kclp-0' random-id='349ae694-b687-087a-5c27-24162f04a663'><marimo-table data-initial-value='[]' data-label='null' data-data='&quot;[{&#92;&quot;date&#92;&quot;:&#92;&quot;2025-05-01&#92;&quot;,&#92;&quot;num_updated&#92;&quot;:459707,&#92;&quot;ppa_updated&#92;&quot;:39,&#92;&quot;pct_updated&#92;&quot;:0.024296598549139372,&#92;&quot;pct_ppa_updated&#92;&quot;:0.007269338303821062},{&#92;&quot;date&#92;&quot;:&#92;&quot;2025-05-02&#92;&quot;,&#92;&quot;num_updated&#92;&quot;:377472,&#92;&quot;ppa_updated&#92;&quot;:65,&#92;&quot;pct_updated&#92;&quot;:0.01995028495876882,&#92;&quot;pct_ppa_updated&#92;&quot;:0.012115563839701771},{&#92;&quot;date&#92;&quot;:&#92;&quot;2025-05-03&#92;&quot;,&#92;&quot;num_updated&#92;&quot;:423831,&#92;&quot;ppa_updated&#92;&quot;:116,&#92;&quot;pct_updated&#92;&quot;:0.022400467383964763,&#92;&quot;pct_ppa_updated&#92;&quot;:0.021621621621621623},{&#92;&quot;date&#92;&quot;:&#92;&quot;2025-05-04&#92;&quot;,&#92;&quot;num_updated&#92;&quot;:265070,&#92;&quot;ppa_updated&#92;&quot;:135,&#92;&quot;pct_updated&#92;&quot;:0.014009574310202746,&#92;&quot;pct_ppa_updated&#92;&quot;:0.025163094128611372},{&#92;&quot;date&#92;&quot;:&#92;&quot;2025-05-05&#92;&quot;,&#92;&quot;num_updated&#92;&quot;:420486,&#92;&quot;ppa_updated&#92;&quot;:111,&#92;&quot;pct_updated&#92;&quot;:0.022223676249292307,&#92;&quot;pct_ppa_updated&#92;&quot;:0.020689655172413793},{&#92;&quot;date&#92;&quot;:&#92;&quot;2025-05-06&#92;&quot;,&#92;&quot;num_updated&#92;&quot;:457121,&#92;&quot;ppa_updated&#92;&quot;:52,&#92;&quot;pct_updated&#92;&quot;:0.02415992235354506,&#92;&quot;pct_ppa_updated&#92;&quot;:0.009692451071761417},{&#92;&quot;date&#92;&quot;:&#92;&quot;2025-05-07&#92;&quot;,&#92;&quot;num_updated&#92;&quot;:118717,&#92;&quot;ppa_updated&#92;&quot;:10,&#92;&quot;pct_updated&#92;&quot;:0.006274473283979097,&#92;&quot;pct_ppa_updated&#92;&quot;:0.001863932898415657},{&#92;&quot;date&#92;&quot;:&#92;&quot;2025-05-08&#92;&quot;,&#92;&quot;num_updated&#92;&quot;:403917,&#92;&quot;ppa_updated&#92;&quot;:23,&#92;&quot;pct_updated&#92;&quot;:0.021347965543645687,&#92;&quot;pct_ppa_updated&#92;&quot;:0.004287045666356011},{&#92;&quot;date&#92;&quot;:&#92;&quot;2025-05-10&#92;&quot;,&#92;&quot;num_updated&#92;&quot;:675112,&#92;&quot;ppa_updated&#92;&quot;:88,&#92;&quot;pct_updated&#92;&quot;:0.03568126054140263,&#92;&quot;pct_ppa_updated&#92;&quot;:0.01640260950605778},{&#92;&quot;date&#92;&quot;:&#92;&quot;2025-05-11&#92;&quot;,&#92;&quot;num_updated&#92;&quot;:440304,&#92;&quot;ppa_updated&#92;&quot;:51,&#92;&quot;pct_updated&#92;&quot;:0.023271104263324818,&#92;&quot;pct_ppa_updated&#92;&quot;:0.009506057781919852}]&quot;' data-total-rows='70' data-total-columns='5' data-max-columns='50' data-banner-text='&quot;&quot;' data-pagination='true' data-page-size='10' data-field-types='[[&quot;date&quot;, [&quot;date&quot;, &quot;date&quot;]], [&quot;num_updated&quot;, [&quot;integer&quot;, &quot;i64&quot;]], [&quot;ppa_updated&quot;, [&quot;integer&quot;, &quot;i64&quot;]], [&quot;pct_updated&quot;, [&quot;number&quot;, &quot;f64&quot;]], [&quot;pct_ppa_updated&quot;, [&quot;number&quot;, &quot;f64&quot;]]]' data-show-filters='true' data-show-download='true' data-show-column-summaries='true' data-row-headers='[]' data-has-stable-row-id='false' data-lazy='false' data-preload='false'></marimo-table></marimo-ui-element>"
      ]
     },
     "metadata": {},
     "output_type": "display_data"
    }
   ],
   "source": [
    "update_data_df = pl.from_dicts(update_data)\n",
    "update_data_df = (\n",
    "    # calculate percentages for all of hathitrust and then all of ppa\n",
    "    update_data_df.with_columns(\n",
    "        pct_updated=pl.col(\"num_updated\").truediv(total_ht_vols),\n",
    "        pct_ppa_updated=pl.col(\"ppa_updated\").truediv(ppa_ht_total),\n",
    "    )\n",
    "    .cast({\"date\": pl.Date})\n",
    "    .sort(\"date\")\n",
    ")\n",
    "update_data_df"
   ]
  },
  {
   "cell_type": "code",
   "execution_count": null,
   "id": "emfo",
   "metadata": {},
   "outputs": [],
   "source": [
    "# save totals calculated from these files\n",
    "update_data_df.write_csv(\"data/hathi_update_counts.csv\")"
   ]
  },
  {
   "cell_type": "code",
   "execution_count": null,
   "id": "Hstk",
   "metadata": {},
   "outputs": [
    {
     "data": {
      "application/vnd.vegalite.v5+json": "{\n  \"$schema\": \"https://vega.github.io/schema/vega-lite/v5.20.1.json\",\n  \"config\": {\n    \"view\": {\n      \"continuousHeight\": 300,\n      \"continuousWidth\": 300\n    }\n  },\n  \"data\": {\n    \"name\": \"data-224658dfa57a8b78dfff885e230c5faa\"\n  },\n  \"datasets\": {\n    \"data-224658dfa57a8b78dfff885e230c5faa\": [\n      {\n        \"date\": \"2025-05-01T00:00:00\",\n        \"num_updated\": 459707,\n        \"pct_ppa_updated\": 0.007269338303821062,\n        \"pct_updated\": 0.024296598549139372,\n        \"ppa_updated\": 39\n      },\n      {\n        \"date\": \"2025-05-02T00:00:00\",\n        \"num_updated\": 377472,\n        \"pct_ppa_updated\": 0.012115563839701771,\n        \"pct_updated\": 0.01995028495876882,\n        \"ppa_updated\": 65\n      },\n      {\n        \"date\": \"2025-05-03T00:00:00\",\n        \"num_updated\": 423831,\n        \"pct_ppa_updated\": 0.021621621621621623,\n        \"pct_updated\": 0.022400467383964763,\n        \"ppa_updated\": 116\n      },\n      {\n        \"date\": \"2025-05-04T00:00:00\",\n        \"num_updated\": 265070,\n        \"pct_ppa_updated\": 0.025163094128611372,\n        \"pct_updated\": 0.014009574310202746,\n        \"ppa_updated\": 135\n      },\n      {\n        \"date\": \"2025-05-05T00:00:00\",\n        \"num_updated\": 420486,\n        \"pct_ppa_updated\": 0.020689655172413793,\n        \"pct_updated\": 0.022223676249292307,\n        \"ppa_updated\": 111\n      },\n      {\n        \"date\": \"2025-05-06T00:00:00\",\n        \"num_updated\": 457121,\n        \"pct_ppa_updated\": 0.009692451071761417,\n        \"pct_updated\": 0.02415992235354506,\n        \"ppa_updated\": 52\n      },\n      {\n        \"date\": \"2025-05-07T00:00:00\",\n        \"num_updated\": 118717,\n        \"pct_ppa_updated\": 0.001863932898415657,\n        \"pct_updated\": 0.006274473283979097,\n        \"ppa_updated\": 10\n      },\n      {\n        \"date\": \"2025-05-08T00:00:00\",\n        \"num_updated\": 403917,\n        \"pct_ppa_updated\": 0.004287045666356011,\n        \"pct_updated\": 0.021347965543645687,\n        \"ppa_updated\": 23\n      },\n      {\n        \"date\": \"2025-05-10T00:00:00\",\n        \"num_updated\": 675112,\n        \"pct_ppa_updated\": 0.01640260950605778,\n        \"pct_updated\": 0.03568126054140263,\n        \"ppa_updated\": 88\n      },\n      {\n        \"date\": \"2025-05-11T00:00:00\",\n        \"num_updated\": 440304,\n        \"pct_ppa_updated\": 0.009506057781919852,\n        \"pct_updated\": 0.023271104263324818,\n        \"ppa_updated\": 51\n      },\n      {\n        \"date\": \"2025-05-12T00:00:00\",\n        \"num_updated\": 289095,\n        \"pct_ppa_updated\": 0.00130475302889096,\n        \"pct_updated\": 0.015279352190772486,\n        \"ppa_updated\": 7\n      },\n      {\n        \"date\": \"2025-05-13T00:00:00\",\n        \"num_updated\": 316016,\n        \"pct_ppa_updated\": 0.00521901211556384,\n        \"pct_updated\": 0.016702190497653566,\n        \"ppa_updated\": 28\n      },\n      {\n        \"date\": \"2025-05-14T00:00:00\",\n        \"num_updated\": 575,\n        \"pct_ppa_updated\": 0.0,\n        \"pct_updated\": 3.0390105362231027e-05,\n        \"ppa_updated\": 0\n      },\n      {\n        \"date\": \"2025-05-15T00:00:00\",\n        \"num_updated\": 846329,\n        \"pct_ppa_updated\": 0.005032618825722274,\n        \"pct_updated\": 0.0447304825758463,\n        \"ppa_updated\": 27\n      },\n      {\n        \"date\": \"2025-05-16T00:00:00\",\n        \"num_updated\": 277052,\n        \"pct_ppa_updated\": 0.0001863932898415657,\n        \"pct_updated\": 0.014642851253594488,\n        \"ppa_updated\": 1\n      },\n      {\n        \"date\": \"2025-05-17T00:00:00\",\n        \"num_updated\": 48732,\n        \"pct_ppa_updated\": 0.0,\n        \"pct_updated\": 0.0025756010687169434,\n        \"ppa_updated\": 0\n      },\n      {\n        \"date\": \"2025-05-18T00:00:00\",\n        \"num_updated\": 48021,\n        \"pct_ppa_updated\": 0.003168685927306617,\n        \"pct_updated\": 0.0025380230427820803,\n        \"ppa_updated\": 17\n      },\n      {\n        \"date\": \"2025-05-19T00:00:00\",\n        \"num_updated\": 22824,\n        \"pct_ppa_updated\": 0.0,\n        \"pct_updated\": 0.0012063021996305409,\n        \"ppa_updated\": 0\n      },\n      {\n        \"date\": \"2025-05-20T00:00:00\",\n        \"num_updated\": 6751,\n        \"pct_ppa_updated\": 0.0,\n        \"pct_updated\": 0.0003568062631311681,\n        \"ppa_updated\": 0\n      },\n      {\n        \"date\": \"2025-05-21T00:00:00\",\n        \"num_updated\": 5356,\n        \"pct_ppa_updated\": 0.0,\n        \"pct_updated\": 0.00028307722490453804,\n        \"ppa_updated\": 0\n      },\n      {\n        \"date\": \"2025-05-22T00:00:00\",\n        \"num_updated\": 332550,\n        \"pct_ppa_updated\": 0.022367194780987885,\n        \"pct_updated\": 0.017576051370799876,\n        \"ppa_updated\": 120\n      },\n      {\n        \"date\": \"2025-05-23T00:00:00\",\n        \"num_updated\": 499195,\n        \"pct_ppa_updated\": 0.023299161230195712,\n        \"pct_updated\": 0.026383632428345946,\n        \"ppa_updated\": 125\n      },\n      {\n        \"date\": \"2025-05-24T00:00:00\",\n        \"num_updated\": 91672,\n        \"pct_ppa_updated\": 0.00130475302889096,\n        \"pct_updated\": 0.004845081284811205,\n        \"ppa_updated\": 7\n      },\n      {\n        \"date\": \"2025-05-25T00:00:00\",\n        \"num_updated\": 14506,\n        \"pct_ppa_updated\": 0.0,\n        \"pct_updated\": 0.0007666762928426492,\n        \"ppa_updated\": 0\n      },\n      {\n        \"date\": \"2025-05-26T00:00:00\",\n        \"num_updated\": 7544,\n        \"pct_ppa_updated\": 0.0,\n        \"pct_updated\": 0.00039871818235247107,\n        \"ppa_updated\": 0\n      },\n      {\n        \"date\": \"2025-05-27T00:00:00\",\n        \"num_updated\": 3881,\n        \"pct_ppa_updated\": 0.0003727865796831314,\n        \"pct_updated\": 0.0002051199981057715,\n        \"ppa_updated\": 2\n      },\n      {\n        \"date\": \"2025-05-28T00:00:00\",\n        \"num_updated\": 929,\n        \"pct_ppa_updated\": 0.0,\n        \"pct_updated\": 4.9099839793935e-05,\n        \"ppa_updated\": 0\n      },\n      {\n        \"date\": \"2025-05-29T00:00:00\",\n        \"num_updated\": 8020,\n        \"pct_ppa_updated\": 0.0,\n        \"pct_updated\": 0.0004238759043566832,\n        \"ppa_updated\": 0\n      },\n      {\n        \"date\": \"2025-05-30T00:00:00\",\n        \"num_updated\": 687959,\n        \"pct_ppa_updated\": 0.006337371854613234,\n        \"pct_updated\": 0.0363602547737306,\n        \"ppa_updated\": 34\n      },\n      {\n        \"date\": \"2025-05-31T00:00:00\",\n        \"num_updated\": 410943,\n        \"pct_ppa_updated\": 0.005032618825722274,\n        \"pct_updated\": 0.021719306204993575,\n        \"ppa_updated\": 27\n      },\n      {\n        \"date\": \"2025-06-01T00:00:00\",\n        \"num_updated\": 615189,\n        \"pct_ppa_updated\": 0.008014911463187325,\n        \"pct_updated\": 0.032514188743800944,\n        \"ppa_updated\": 43\n      },\n      {\n        \"date\": \"2025-06-02T00:00:00\",\n        \"num_updated\": 419028,\n        \"pct_ppa_updated\": 0.023112767940354148,\n        \"pct_updated\": 0.02214661751256512,\n        \"ppa_updated\": 124\n      },\n      {\n        \"date\": \"2025-06-03T00:00:00\",\n        \"num_updated\": 465977,\n        \"pct_ppa_updated\": 0.012301957129543337,\n        \"pct_updated\": 0.02462798282848057,\n        \"ppa_updated\": 66\n      },\n      {\n        \"date\": \"2025-06-04T00:00:00\",\n        \"num_updated\": 358816,\n        \"pct_ppa_updated\": 0.0029822926374650513,\n        \"pct_updated\": 0.018964271383746588,\n        \"ppa_updated\": 16\n      },\n      {\n        \"date\": \"2025-06-05T00:00:00\",\n        \"num_updated\": 359528,\n        \"pct_ppa_updated\": 0.007269338303821062,\n        \"pct_updated\": 0.019001902262038604,\n        \"ppa_updated\": 39\n      },\n      {\n        \"date\": \"2025-06-06T00:00:00\",\n        \"num_updated\": 342298,\n        \"pct_ppa_updated\": 0.01342031686859273,\n        \"pct_updated\": 0.018091256148314708,\n        \"ppa_updated\": 72\n      },\n      {\n        \"date\": \"2025-06-07T00:00:00\",\n        \"num_updated\": 449139,\n        \"pct_ppa_updated\": 0.011369990680335508,\n        \"pct_updated\": 0.023738054838760143,\n        \"ppa_updated\": 61\n      },\n      {\n        \"date\": \"2025-06-08T00:00:00\",\n        \"num_updated\": 513151,\n        \"pct_ppa_updated\": 0.018639328984156572,\n        \"pct_updated\": 0.027121239924755156,\n        \"ppa_updated\": 100\n      },\n      {\n        \"date\": \"2025-06-09T00:00:00\",\n        \"num_updated\": 312105,\n        \"pct_ppa_updated\": 0.008387698042870456,\n        \"pct_updated\": 0.016495484928833244,\n        \"ppa_updated\": 45\n      },\n      {\n        \"date\": \"2025-06-10T00:00:00\",\n        \"num_updated\": 378394,\n        \"pct_ppa_updated\": 0.00913327120223672,\n        \"pct_updated\": 0.019999014832062692,\n        \"ppa_updated\": 49\n      },\n      {\n        \"date\": \"2025-06-11T00:00:00\",\n        \"num_updated\": 582708,\n        \"pct_ppa_updated\": 0.025908667287977635,\n        \"pct_updated\": 0.03079749133115638,\n        \"ppa_updated\": 139\n      },\n      {\n        \"date\": \"2025-06-12T00:00:00\",\n        \"num_updated\": 515628,\n        \"pct_ppa_updated\": 0.010810810810810811,\n        \"pct_updated\": 0.02725215521341993,\n        \"ppa_updated\": 58\n      },\n      {\n        \"date\": \"2025-06-13T00:00:00\",\n        \"num_updated\": 495513,\n        \"pct_ppa_updated\": 0.007642124883504194,\n        \"pct_updated\": 0.02618903004931336,\n        \"ppa_updated\": 41\n      },\n      {\n        \"date\": \"2025-06-14T00:00:00\",\n        \"num_updated\": 437156,\n        \"pct_ppa_updated\": 0.0016775396085740913,\n        \"pct_updated\": 0.023104725043011247,\n        \"ppa_updated\": 9\n      },\n      {\n        \"date\": \"2025-06-15T00:00:00\",\n        \"num_updated\": 487611,\n        \"pct_ppa_updated\": 0.004100652376514445,\n        \"pct_updated\": 0.02577139072310058,\n        \"ppa_updated\": 22\n      },\n      {\n        \"date\": \"2025-06-16T00:00:00\",\n        \"num_updated\": 446809,\n        \"pct_ppa_updated\": 0.0035414725069897483,\n        \"pct_updated\": 0.023614908846596668,\n        \"ppa_updated\": 19\n      },\n      {\n        \"date\": \"2025-06-17T00:00:00\",\n        \"num_updated\": 542288,\n        \"pct_ppa_updated\": 0.013233923578751165,\n        \"pct_updated\": 0.028661199055084418,\n        \"ppa_updated\": 71\n      },\n      {\n        \"date\": \"2025-06-18T00:00:00\",\n        \"num_updated\": 559878,\n        \"pct_ppa_updated\": 0.009878844361602983,\n        \"pct_updated\": 0.02959087201738293,\n        \"ppa_updated\": 53\n      },\n      {\n        \"date\": \"2025-06-19T00:00:00\",\n        \"num_updated\": 408969,\n        \"pct_ppa_updated\": 0.016775396085740912,\n        \"pct_updated\": 0.021614975651976107,\n        \"ppa_updated\": 90\n      },\n      {\n        \"date\": \"2025-06-20T00:00:00\",\n        \"num_updated\": 280371,\n        \"pct_ppa_updated\": 0.007269338303821062,\n        \"pct_updated\": 0.014818268226981,\n        \"ppa_updated\": 39\n      },\n      {\n        \"date\": \"2025-06-21T00:00:00\",\n        \"num_updated\": 381278,\n        \"pct_ppa_updated\": 0.016775396085740912,\n        \"pct_updated\": 0.020151441030088212,\n        \"ppa_updated\": 90\n      },\n      {\n        \"date\": \"2025-06-22T00:00:00\",\n        \"num_updated\": 505103,\n        \"pct_ppa_updated\": 0.019198508853681268,\n        \"pct_updated\": 0.026695884154398223,\n        \"ppa_updated\": 103\n      },\n      {\n        \"date\": \"2025-06-23T00:00:00\",\n        \"num_updated\": 417529,\n        \"pct_ppa_updated\": 0.004846225535880709,\n        \"pct_updated\": 0.02206739182919471,\n        \"ppa_updated\": 26\n      },\n      {\n        \"date\": \"2025-06-24T00:00:00\",\n        \"num_updated\": 647451,\n        \"pct_ppa_updated\": 0.00782851817334576,\n        \"pct_updated\": 0.03421931149022929,\n        \"ppa_updated\": 42\n      },\n      {\n        \"date\": \"2025-06-25T00:00:00\",\n        \"num_updated\": 470756,\n        \"pct_ppa_updated\": 0.004100652376514445,\n        \"pct_updated\": 0.024880564243308572,\n        \"ppa_updated\": 22\n      },\n      {\n        \"date\": \"2025-06-26T00:00:00\",\n        \"num_updated\": 449417,\n        \"pct_ppa_updated\": 0.014165890027958993,\n        \"pct_updated\": 0.023752747794048318,\n        \"ppa_updated\": 76\n      },\n      {\n        \"date\": \"2025-06-27T00:00:00\",\n        \"num_updated\": 405193,\n        \"pct_ppa_updated\": 0.008946877912395155,\n        \"pct_updated\": 0.021415405151371265,\n        \"ppa_updated\": 48\n      },\n      {\n        \"date\": \"2025-06-28T00:00:00\",\n        \"num_updated\": 497475,\n        \"pct_ppa_updated\": 0.008760484622553587,\n        \"pct_updated\": 0.02629272637404501,\n        \"ppa_updated\": 47\n      },\n      {\n        \"date\": \"2025-06-29T00:00:00\",\n        \"num_updated\": 161896,\n        \"pct_ppa_updated\": 0.00521901211556384,\n        \"pct_updated\": 0.008556585213432617,\n        \"ppa_updated\": 28\n      },\n      {\n        \"date\": \"2025-06-30T00:00:00\",\n        \"num_updated\": 40566,\n        \"pct_ppa_updated\": 0.0007455731593662628,\n        \"pct_updated\": 0.002144008720216111,\n        \"ppa_updated\": 4\n      },\n      {\n        \"date\": \"2025-07-01T00:00:00\",\n        \"num_updated\": 17230,\n        \"pct_ppa_updated\": 0.0,\n        \"pct_updated\": 0.0009106461137238967,\n        \"ppa_updated\": 0\n      },\n      {\n        \"date\": \"2025-07-02T00:00:00\",\n        \"num_updated\": 285218,\n        \"pct_ppa_updated\": 0.004100652376514445,\n        \"pct_updated\": 0.015074443602095321,\n        \"ppa_updated\": 22\n      },\n      {\n        \"date\": \"2025-07-03T00:00:00\",\n        \"num_updated\": 353668,\n        \"pct_ppa_updated\": 0.006337371854613234,\n        \"pct_updated\": 0.018692187449129604,\n        \"ppa_updated\": 34\n      },\n      {\n        \"date\": \"2025-07-04T00:00:00\",\n        \"num_updated\": 368403,\n        \"pct_ppa_updated\": 0.003727865796831314,\n        \"pct_updated\": 0.019470966931759995,\n        \"ppa_updated\": 20\n      },\n      {\n        \"date\": \"2025-07-05T00:00:00\",\n        \"num_updated\": 413547,\n        \"pct_ppa_updated\": 0.0035414725069897483,\n        \"pct_updated\": 0.02185693374301662,\n        \"ppa_updated\": 19\n      },\n      {\n        \"date\": \"2025-07-06T00:00:00\",\n        \"num_updated\": 461452,\n        \"pct_ppa_updated\": 0.019198508853681268,\n        \"pct_updated\": 0.0243888259123691,\n        \"ppa_updated\": 103\n      },\n      {\n        \"date\": \"2025-07-07T00:00:00\",\n        \"num_updated\": 407286,\n        \"pct_ppa_updated\": 0.005964585274930103,\n        \"pct_updated\": 0.021526025134889784,\n        \"ppa_updated\": 32\n      },\n      {\n        \"date\": \"2025-07-08T00:00:00\",\n        \"num_updated\": 335421,\n        \"pct_ppa_updated\": 0.010997204100652377,\n        \"pct_updated\": 0.017727790488182425,\n        \"ppa_updated\": 59\n      },\n      {\n        \"date\": \"2025-07-09T00:00:00\",\n        \"num_updated\": 392793,\n        \"pct_ppa_updated\": 0.00391425908667288,\n        \"pct_updated\": 0.020760035922690108,\n        \"ppa_updated\": 21\n      },\n      {\n        \"date\": \"2025-07-10T00:00:00\",\n        \"num_updated\": 445583,\n        \"pct_ppa_updated\": 0.005591798695246971,\n        \"pct_updated\": 0.023550111856728676,\n        \"ppa_updated\": 30\n      }\n    ]\n  },\n  \"encoding\": {\n    \"x\": {\n      \"axis\": {\n        \"format\": \"%B %d\",\n        \"tickCount\": \"week\"\n      },\n      \"field\": \"date\",\n      \"title\": \"Date\",\n      \"type\": \"temporal\"\n    },\n    \"y\": {\n      \"field\": \"num_updated\",\n      \"title\": \"# updated\",\n      \"type\": \"quantitative\"\n    }\n  },\n  \"height\": 100,\n  \"mark\": {\n    \"color\": \"#4661ac\",\n    \"type\": \"bar\",\n    \"width\": 10\n  },\n  \"usermeta\": {\n    \"embedOptions\": {}\n  },\n  \"width\": 840\n}"
     },
     "metadata": {},
     "output_type": "display_data"
    }
   ],
   "source": [
    "import altair as alt\n",
    "\n",
    "# get date range for the data\n",
    "earliest = update_data_df[\"date\"].min()\n",
    "latest = update_data_df[\"date\"].max()\n",
    "\n",
    "num_chart = (\n",
    "    alt.Chart(update_data_df)\n",
    "    .mark_bar(width=10, color=\"#4661ac\")\n",
    "    .encode(\n",
    "        x=alt.X(\"date\", title=\"Date\").axis(\n",
    "            format=\"%B %d\", tickCount=\"week\"\n",
    "        ),  # suppress labels since will be combined\n",
    "        y=alt.Y(\"num_updated\", title=\"# updated\"),\n",
    "    )\n",
    ").properties(\n",
    "    width=840,\n",
    "    height=100,\n",
    "    # title=f\"Updated volumes in all of HathiTrust, {earliest.strftime('%B %d')} to {latest.strftime('%B %d %Y')}\",\n",
    ")\n",
    "\n",
    "\n",
    "# can we set y-domain to force the axes to align?\n",
    "pct_chart = (\n",
    "    num_chart.mark_bar(width=10, color=\"#ff7f0e\", opacity=0.5)\n",
    "    .encode(\n",
    "        x=alt.X(\"date\", title=\"Date\").axis(format=\"%B %d\", tickCount=\"week\"),\n",
    "        y=alt.Y(\"pct_updated\", title=\"% updated\"),\n",
    "    )\n",
    "    .properties(\n",
    "        height=100,\n",
    "    )\n",
    ")\n",
    "\n",
    "\n",
    "#     )\n",
    "\n",
    "num_chart.save(\"figures/hathitrust_changes_countonly.pdf\")\n",
    "\n",
    "num_chart\n",
    "# can we combine and fix the scale so % is one side and count is the other?\n",
    "# right now they don't match exactly\n",
    "# combined_chart = (\n",
    "#     (num_chart + pct_chart)\n",
    "#     .properties(\n",
    "#         title=f\"Updated volumes in all of HathiTrust, {earliest.strftime('%B %d')} to {latest.strftime('%B %d %Y')}\"\n",
    "#     )\n",
    "#     .resolve_scale(x=\"shared\", y=\"independent\")\n",
    "# )\n",
    "\n",
    "\n",
    "# combined_chart = (\n",
    "#     (num_chart & pct_chart)\n",
    "#     .properties(\n",
    "#         title=f\"Updated volumes in all of HathiTrust, {earliest.strftime('%B %d')} to {latest.strftime('%B %d %Y')}\"\n",
    "#     )\n",
    "#     .resolve_scale(x=\"shared\")\n",
    "# )\n",
    "# combined_chart.save(\"figures/hathitrust_changes.pdf\")\n",
    "\n",
    "# combined_chart"
   ]
  },
  {
   "cell_type": "code",
   "execution_count": null,
   "id": "nWHF",
   "metadata": {},
   "outputs": [
    {
     "data": {
      "text/html": [
       "<span class=\"markdown prose dark:prose-invert\"><span class=\"paragraph\">Updated volumes in all of HathiTrust, May 01 to July 10 2025</span></span>"
      ]
     },
     "metadata": {},
     "output_type": "display_data"
    }
   ],
   "source": [
    "mo.md(\n",
    "    f\"Updated volumes in all of HathiTrust, {earliest.strftime('%B %d')} to {latest.strftime('%B %d %Y')}\"\n",
    ")"
   ]
  },
  {
   "cell_type": "markdown",
   "id": "iLit",
   "metadata": {},
   "source": [
    "What is the largest number of updates in a single day during this time period?"
   ]
  },
  {
   "cell_type": "code",
   "execution_count": null,
   "id": "ZHCJ",
   "metadata": {},
   "outputs": [
    {
     "data": {
      "text/html": [
       "<marimo-ui-element object-id='ZHCJ-0' random-id='1700aaf9-6712-47e3-04c6-79c63a878aac'><marimo-table data-initial-value='[]' data-label='null' data-data='&quot;[{&#92;&quot;date&#92;&quot;:&#92;&quot;2025-05-15&#92;&quot;,&#92;&quot;num_updated&#92;&quot;:846329,&#92;&quot;ppa_updated&#92;&quot;:27,&#92;&quot;pct_updated&#92;&quot;:0.0447304825758463,&#92;&quot;pct_ppa_updated&#92;&quot;:0.005032618825722274},{&#92;&quot;date&#92;&quot;:&#92;&quot;2025-05-30&#92;&quot;,&#92;&quot;num_updated&#92;&quot;:687959,&#92;&quot;ppa_updated&#92;&quot;:34,&#92;&quot;pct_updated&#92;&quot;:0.0363602547737306,&#92;&quot;pct_ppa_updated&#92;&quot;:0.006337371854613234},{&#92;&quot;date&#92;&quot;:&#92;&quot;2025-05-10&#92;&quot;,&#92;&quot;num_updated&#92;&quot;:675112,&#92;&quot;ppa_updated&#92;&quot;:88,&#92;&quot;pct_updated&#92;&quot;:0.03568126054140263,&#92;&quot;pct_ppa_updated&#92;&quot;:0.01640260950605778},{&#92;&quot;date&#92;&quot;:&#92;&quot;2025-06-24&#92;&quot;,&#92;&quot;num_updated&#92;&quot;:647451,&#92;&quot;ppa_updated&#92;&quot;:42,&#92;&quot;pct_updated&#92;&quot;:0.03421931149022929,&#92;&quot;pct_ppa_updated&#92;&quot;:0.00782851817334576},{&#92;&quot;date&#92;&quot;:&#92;&quot;2025-06-01&#92;&quot;,&#92;&quot;num_updated&#92;&quot;:615189,&#92;&quot;ppa_updated&#92;&quot;:43,&#92;&quot;pct_updated&#92;&quot;:0.032514188743800944,&#92;&quot;pct_ppa_updated&#92;&quot;:0.008014911463187325}]&quot;' data-total-rows='5' data-total-columns='5' data-max-columns='50' data-banner-text='&quot;&quot;' data-pagination='true' data-page-size='10' data-field-types='[[&quot;date&quot;, [&quot;date&quot;, &quot;date&quot;]], [&quot;num_updated&quot;, [&quot;integer&quot;, &quot;i64&quot;]], [&quot;ppa_updated&quot;, [&quot;integer&quot;, &quot;i64&quot;]], [&quot;pct_updated&quot;, [&quot;number&quot;, &quot;f64&quot;]], [&quot;pct_ppa_updated&quot;, [&quot;number&quot;, &quot;f64&quot;]]]' data-show-filters='true' data-show-download='true' data-show-column-summaries='false' data-row-headers='[]' data-has-stable-row-id='false' data-lazy='false' data-preload='false'></marimo-table></marimo-ui-element>"
      ]
     },
     "metadata": {},
     "output_type": "display_data"
    }
   ],
   "source": [
    "update_data_df.sort(\"num_updated\", descending=True).head(5)"
   ]
  },
  {
   "cell_type": "code",
   "execution_count": null,
   "id": "ROlb",
   "metadata": {},
   "outputs": [
    {
     "data": {
      "text/html": [
       "<span class=\"markdown prose dark:prose-invert\"><span class=\"paragraph\">Largest number updated: 846,329 (4.5%) on 2025-05-15</span></span>"
      ]
     },
     "metadata": {},
     "output_type": "display_data"
    }
   ],
   "source": [
    "max_update = update_data_df.sort(\"num_updated\", descending=True).row(\n",
    "    0, named=True\n",
    ")\n",
    "\n",
    "max_num_updated = max_update[\"num_updated\"]\n",
    "max_pct_updated = max_update[\"pct_updated\"]\n",
    "max_updates_day = max_update[\"date\"]\n",
    "mo.md(\n",
    "    f\"Largest number updated: {max_num_updated:,} ({max_pct_updated * 100:.1f}%) on {max_updates_day}\"\n",
    ")"
   ]
  },
  {
   "cell_type": "markdown",
   "id": "qnkX",
   "metadata": {},
   "source": [
    "What is the average daily change across this time period?"
   ]
  },
  {
   "cell_type": "code",
   "execution_count": null,
   "id": "TqIu",
   "metadata": {},
   "outputs": [
    {
     "data": {
      "text/html": [
       "<span class=\"markdown prose dark:prose-invert\"><span class=\"paragraph\">Average daily update for this period is 348,392 (1.8%)</span></span>"
      ]
     },
     "metadata": {},
     "output_type": "display_data"
    }
   ],
   "source": [
    "avg_num_updated = update_data_df[\"num_updated\"].mean()\n",
    "avg_pct_updated = update_data_df[\"pct_updated\"].mean()\n",
    "mo.md(\n",
    "    f\"Average daily update for this period is {int(avg_num_updated):,} ({avg_pct_updated * 100:.1f}%)\"\n",
    ")"
   ]
  },
  {
   "cell_type": "code",
   "execution_count": null,
   "id": "Vxnm",
   "metadata": {},
   "outputs": [
    {
     "data": {
      "application/vnd.vegalite.v5+json": "{\n  \"$schema\": \"https://vega.github.io/schema/vega-lite/v5.20.1.json\",\n  \"config\": {\n    \"view\": {\n      \"continuousHeight\": 300,\n      \"continuousWidth\": 300\n    }\n  },\n  \"data\": {\n    \"name\": \"data-224658dfa57a8b78dfff885e230c5faa\"\n  },\n  \"datasets\": {\n    \"data-224658dfa57a8b78dfff885e230c5faa\": [\n      {\n        \"date\": \"2025-05-01T00:00:00\",\n        \"num_updated\": 459707,\n        \"pct_ppa_updated\": 0.007269338303821062,\n        \"pct_updated\": 0.024296598549139372,\n        \"ppa_updated\": 39\n      },\n      {\n        \"date\": \"2025-05-02T00:00:00\",\n        \"num_updated\": 377472,\n        \"pct_ppa_updated\": 0.012115563839701771,\n        \"pct_updated\": 0.01995028495876882,\n        \"ppa_updated\": 65\n      },\n      {\n        \"date\": \"2025-05-03T00:00:00\",\n        \"num_updated\": 423831,\n        \"pct_ppa_updated\": 0.021621621621621623,\n        \"pct_updated\": 0.022400467383964763,\n        \"ppa_updated\": 116\n      },\n      {\n        \"date\": \"2025-05-04T00:00:00\",\n        \"num_updated\": 265070,\n        \"pct_ppa_updated\": 0.025163094128611372,\n        \"pct_updated\": 0.014009574310202746,\n        \"ppa_updated\": 135\n      },\n      {\n        \"date\": \"2025-05-05T00:00:00\",\n        \"num_updated\": 420486,\n        \"pct_ppa_updated\": 0.020689655172413793,\n        \"pct_updated\": 0.022223676249292307,\n        \"ppa_updated\": 111\n      },\n      {\n        \"date\": \"2025-05-06T00:00:00\",\n        \"num_updated\": 457121,\n        \"pct_ppa_updated\": 0.009692451071761417,\n        \"pct_updated\": 0.02415992235354506,\n        \"ppa_updated\": 52\n      },\n      {\n        \"date\": \"2025-05-07T00:00:00\",\n        \"num_updated\": 118717,\n        \"pct_ppa_updated\": 0.001863932898415657,\n        \"pct_updated\": 0.006274473283979097,\n        \"ppa_updated\": 10\n      },\n      {\n        \"date\": \"2025-05-08T00:00:00\",\n        \"num_updated\": 403917,\n        \"pct_ppa_updated\": 0.004287045666356011,\n        \"pct_updated\": 0.021347965543645687,\n        \"ppa_updated\": 23\n      },\n      {\n        \"date\": \"2025-05-10T00:00:00\",\n        \"num_updated\": 675112,\n        \"pct_ppa_updated\": 0.01640260950605778,\n        \"pct_updated\": 0.03568126054140263,\n        \"ppa_updated\": 88\n      },\n      {\n        \"date\": \"2025-05-11T00:00:00\",\n        \"num_updated\": 440304,\n        \"pct_ppa_updated\": 0.009506057781919852,\n        \"pct_updated\": 0.023271104263324818,\n        \"ppa_updated\": 51\n      },\n      {\n        \"date\": \"2025-05-12T00:00:00\",\n        \"num_updated\": 289095,\n        \"pct_ppa_updated\": 0.00130475302889096,\n        \"pct_updated\": 0.015279352190772486,\n        \"ppa_updated\": 7\n      },\n      {\n        \"date\": \"2025-05-13T00:00:00\",\n        \"num_updated\": 316016,\n        \"pct_ppa_updated\": 0.00521901211556384,\n        \"pct_updated\": 0.016702190497653566,\n        \"ppa_updated\": 28\n      },\n      {\n        \"date\": \"2025-05-14T00:00:00\",\n        \"num_updated\": 575,\n        \"pct_ppa_updated\": 0.0,\n        \"pct_updated\": 3.0390105362231027e-05,\n        \"ppa_updated\": 0\n      },\n      {\n        \"date\": \"2025-05-15T00:00:00\",\n        \"num_updated\": 846329,\n        \"pct_ppa_updated\": 0.005032618825722274,\n        \"pct_updated\": 0.0447304825758463,\n        \"ppa_updated\": 27\n      },\n      {\n        \"date\": \"2025-05-16T00:00:00\",\n        \"num_updated\": 277052,\n        \"pct_ppa_updated\": 0.0001863932898415657,\n        \"pct_updated\": 0.014642851253594488,\n        \"ppa_updated\": 1\n      },\n      {\n        \"date\": \"2025-05-17T00:00:00\",\n        \"num_updated\": 48732,\n        \"pct_ppa_updated\": 0.0,\n        \"pct_updated\": 0.0025756010687169434,\n        \"ppa_updated\": 0\n      },\n      {\n        \"date\": \"2025-05-18T00:00:00\",\n        \"num_updated\": 48021,\n        \"pct_ppa_updated\": 0.003168685927306617,\n        \"pct_updated\": 0.0025380230427820803,\n        \"ppa_updated\": 17\n      },\n      {\n        \"date\": \"2025-05-19T00:00:00\",\n        \"num_updated\": 22824,\n        \"pct_ppa_updated\": 0.0,\n        \"pct_updated\": 0.0012063021996305409,\n        \"ppa_updated\": 0\n      },\n      {\n        \"date\": \"2025-05-20T00:00:00\",\n        \"num_updated\": 6751,\n        \"pct_ppa_updated\": 0.0,\n        \"pct_updated\": 0.0003568062631311681,\n        \"ppa_updated\": 0\n      },\n      {\n        \"date\": \"2025-05-21T00:00:00\",\n        \"num_updated\": 5356,\n        \"pct_ppa_updated\": 0.0,\n        \"pct_updated\": 0.00028307722490453804,\n        \"ppa_updated\": 0\n      },\n      {\n        \"date\": \"2025-05-22T00:00:00\",\n        \"num_updated\": 332550,\n        \"pct_ppa_updated\": 0.022367194780987885,\n        \"pct_updated\": 0.017576051370799876,\n        \"ppa_updated\": 120\n      },\n      {\n        \"date\": \"2025-05-23T00:00:00\",\n        \"num_updated\": 499195,\n        \"pct_ppa_updated\": 0.023299161230195712,\n        \"pct_updated\": 0.026383632428345946,\n        \"ppa_updated\": 125\n      },\n      {\n        \"date\": \"2025-05-24T00:00:00\",\n        \"num_updated\": 91672,\n        \"pct_ppa_updated\": 0.00130475302889096,\n        \"pct_updated\": 0.004845081284811205,\n        \"ppa_updated\": 7\n      },\n      {\n        \"date\": \"2025-05-25T00:00:00\",\n        \"num_updated\": 14506,\n        \"pct_ppa_updated\": 0.0,\n        \"pct_updated\": 0.0007666762928426492,\n        \"ppa_updated\": 0\n      },\n      {\n        \"date\": \"2025-05-26T00:00:00\",\n        \"num_updated\": 7544,\n        \"pct_ppa_updated\": 0.0,\n        \"pct_updated\": 0.00039871818235247107,\n        \"ppa_updated\": 0\n      },\n      {\n        \"date\": \"2025-05-27T00:00:00\",\n        \"num_updated\": 3881,\n        \"pct_ppa_updated\": 0.0003727865796831314,\n        \"pct_updated\": 0.0002051199981057715,\n        \"ppa_updated\": 2\n      },\n      {\n        \"date\": \"2025-05-28T00:00:00\",\n        \"num_updated\": 929,\n        \"pct_ppa_updated\": 0.0,\n        \"pct_updated\": 4.9099839793935e-05,\n        \"ppa_updated\": 0\n      },\n      {\n        \"date\": \"2025-05-29T00:00:00\",\n        \"num_updated\": 8020,\n        \"pct_ppa_updated\": 0.0,\n        \"pct_updated\": 0.0004238759043566832,\n        \"ppa_updated\": 0\n      },\n      {\n        \"date\": \"2025-05-30T00:00:00\",\n        \"num_updated\": 687959,\n        \"pct_ppa_updated\": 0.006337371854613234,\n        \"pct_updated\": 0.0363602547737306,\n        \"ppa_updated\": 34\n      },\n      {\n        \"date\": \"2025-05-31T00:00:00\",\n        \"num_updated\": 410943,\n        \"pct_ppa_updated\": 0.005032618825722274,\n        \"pct_updated\": 0.021719306204993575,\n        \"ppa_updated\": 27\n      },\n      {\n        \"date\": \"2025-06-01T00:00:00\",\n        \"num_updated\": 615189,\n        \"pct_ppa_updated\": 0.008014911463187325,\n        \"pct_updated\": 0.032514188743800944,\n        \"ppa_updated\": 43\n      },\n      {\n        \"date\": \"2025-06-02T00:00:00\",\n        \"num_updated\": 419028,\n        \"pct_ppa_updated\": 0.023112767940354148,\n        \"pct_updated\": 0.02214661751256512,\n        \"ppa_updated\": 124\n      },\n      {\n        \"date\": \"2025-06-03T00:00:00\",\n        \"num_updated\": 465977,\n        \"pct_ppa_updated\": 0.012301957129543337,\n        \"pct_updated\": 0.02462798282848057,\n        \"ppa_updated\": 66\n      },\n      {\n        \"date\": \"2025-06-04T00:00:00\",\n        \"num_updated\": 358816,\n        \"pct_ppa_updated\": 0.0029822926374650513,\n        \"pct_updated\": 0.018964271383746588,\n        \"ppa_updated\": 16\n      },\n      {\n        \"date\": \"2025-06-05T00:00:00\",\n        \"num_updated\": 359528,\n        \"pct_ppa_updated\": 0.007269338303821062,\n        \"pct_updated\": 0.019001902262038604,\n        \"ppa_updated\": 39\n      },\n      {\n        \"date\": \"2025-06-06T00:00:00\",\n        \"num_updated\": 342298,\n        \"pct_ppa_updated\": 0.01342031686859273,\n        \"pct_updated\": 0.018091256148314708,\n        \"ppa_updated\": 72\n      },\n      {\n        \"date\": \"2025-06-07T00:00:00\",\n        \"num_updated\": 449139,\n        \"pct_ppa_updated\": 0.011369990680335508,\n        \"pct_updated\": 0.023738054838760143,\n        \"ppa_updated\": 61\n      },\n      {\n        \"date\": \"2025-06-08T00:00:00\",\n        \"num_updated\": 513151,\n        \"pct_ppa_updated\": 0.018639328984156572,\n        \"pct_updated\": 0.027121239924755156,\n        \"ppa_updated\": 100\n      },\n      {\n        \"date\": \"2025-06-09T00:00:00\",\n        \"num_updated\": 312105,\n        \"pct_ppa_updated\": 0.008387698042870456,\n        \"pct_updated\": 0.016495484928833244,\n        \"ppa_updated\": 45\n      },\n      {\n        \"date\": \"2025-06-10T00:00:00\",\n        \"num_updated\": 378394,\n        \"pct_ppa_updated\": 0.00913327120223672,\n        \"pct_updated\": 0.019999014832062692,\n        \"ppa_updated\": 49\n      },\n      {\n        \"date\": \"2025-06-11T00:00:00\",\n        \"num_updated\": 582708,\n        \"pct_ppa_updated\": 0.025908667287977635,\n        \"pct_updated\": 0.03079749133115638,\n        \"ppa_updated\": 139\n      },\n      {\n        \"date\": \"2025-06-12T00:00:00\",\n        \"num_updated\": 515628,\n        \"pct_ppa_updated\": 0.010810810810810811,\n        \"pct_updated\": 0.02725215521341993,\n        \"ppa_updated\": 58\n      },\n      {\n        \"date\": \"2025-06-13T00:00:00\",\n        \"num_updated\": 495513,\n        \"pct_ppa_updated\": 0.007642124883504194,\n        \"pct_updated\": 0.02618903004931336,\n        \"ppa_updated\": 41\n      },\n      {\n        \"date\": \"2025-06-14T00:00:00\",\n        \"num_updated\": 437156,\n        \"pct_ppa_updated\": 0.0016775396085740913,\n        \"pct_updated\": 0.023104725043011247,\n        \"ppa_updated\": 9\n      },\n      {\n        \"date\": \"2025-06-15T00:00:00\",\n        \"num_updated\": 487611,\n        \"pct_ppa_updated\": 0.004100652376514445,\n        \"pct_updated\": 0.02577139072310058,\n        \"ppa_updated\": 22\n      },\n      {\n        \"date\": \"2025-06-16T00:00:00\",\n        \"num_updated\": 446809,\n        \"pct_ppa_updated\": 0.0035414725069897483,\n        \"pct_updated\": 0.023614908846596668,\n        \"ppa_updated\": 19\n      },\n      {\n        \"date\": \"2025-06-17T00:00:00\",\n        \"num_updated\": 542288,\n        \"pct_ppa_updated\": 0.013233923578751165,\n        \"pct_updated\": 0.028661199055084418,\n        \"ppa_updated\": 71\n      },\n      {\n        \"date\": \"2025-06-18T00:00:00\",\n        \"num_updated\": 559878,\n        \"pct_ppa_updated\": 0.009878844361602983,\n        \"pct_updated\": 0.02959087201738293,\n        \"ppa_updated\": 53\n      },\n      {\n        \"date\": \"2025-06-19T00:00:00\",\n        \"num_updated\": 408969,\n        \"pct_ppa_updated\": 0.016775396085740912,\n        \"pct_updated\": 0.021614975651976107,\n        \"ppa_updated\": 90\n      },\n      {\n        \"date\": \"2025-06-20T00:00:00\",\n        \"num_updated\": 280371,\n        \"pct_ppa_updated\": 0.007269338303821062,\n        \"pct_updated\": 0.014818268226981,\n        \"ppa_updated\": 39\n      },\n      {\n        \"date\": \"2025-06-21T00:00:00\",\n        \"num_updated\": 381278,\n        \"pct_ppa_updated\": 0.016775396085740912,\n        \"pct_updated\": 0.020151441030088212,\n        \"ppa_updated\": 90\n      },\n      {\n        \"date\": \"2025-06-22T00:00:00\",\n        \"num_updated\": 505103,\n        \"pct_ppa_updated\": 0.019198508853681268,\n        \"pct_updated\": 0.026695884154398223,\n        \"ppa_updated\": 103\n      },\n      {\n        \"date\": \"2025-06-23T00:00:00\",\n        \"num_updated\": 417529,\n        \"pct_ppa_updated\": 0.004846225535880709,\n        \"pct_updated\": 0.02206739182919471,\n        \"ppa_updated\": 26\n      },\n      {\n        \"date\": \"2025-06-24T00:00:00\",\n        \"num_updated\": 647451,\n        \"pct_ppa_updated\": 0.00782851817334576,\n        \"pct_updated\": 0.03421931149022929,\n        \"ppa_updated\": 42\n      },\n      {\n        \"date\": \"2025-06-25T00:00:00\",\n        \"num_updated\": 470756,\n        \"pct_ppa_updated\": 0.004100652376514445,\n        \"pct_updated\": 0.024880564243308572,\n        \"ppa_updated\": 22\n      },\n      {\n        \"date\": \"2025-06-26T00:00:00\",\n        \"num_updated\": 449417,\n        \"pct_ppa_updated\": 0.014165890027958993,\n        \"pct_updated\": 0.023752747794048318,\n        \"ppa_updated\": 76\n      },\n      {\n        \"date\": \"2025-06-27T00:00:00\",\n        \"num_updated\": 405193,\n        \"pct_ppa_updated\": 0.008946877912395155,\n        \"pct_updated\": 0.021415405151371265,\n        \"ppa_updated\": 48\n      },\n      {\n        \"date\": \"2025-06-28T00:00:00\",\n        \"num_updated\": 497475,\n        \"pct_ppa_updated\": 0.008760484622553587,\n        \"pct_updated\": 0.02629272637404501,\n        \"ppa_updated\": 47\n      },\n      {\n        \"date\": \"2025-06-29T00:00:00\",\n        \"num_updated\": 161896,\n        \"pct_ppa_updated\": 0.00521901211556384,\n        \"pct_updated\": 0.008556585213432617,\n        \"ppa_updated\": 28\n      },\n      {\n        \"date\": \"2025-06-30T00:00:00\",\n        \"num_updated\": 40566,\n        \"pct_ppa_updated\": 0.0007455731593662628,\n        \"pct_updated\": 0.002144008720216111,\n        \"ppa_updated\": 4\n      },\n      {\n        \"date\": \"2025-07-01T00:00:00\",\n        \"num_updated\": 17230,\n        \"pct_ppa_updated\": 0.0,\n        \"pct_updated\": 0.0009106461137238967,\n        \"ppa_updated\": 0\n      },\n      {\n        \"date\": \"2025-07-02T00:00:00\",\n        \"num_updated\": 285218,\n        \"pct_ppa_updated\": 0.004100652376514445,\n        \"pct_updated\": 0.015074443602095321,\n        \"ppa_updated\": 22\n      },\n      {\n        \"date\": \"2025-07-03T00:00:00\",\n        \"num_updated\": 353668,\n        \"pct_ppa_updated\": 0.006337371854613234,\n        \"pct_updated\": 0.018692187449129604,\n        \"ppa_updated\": 34\n      },\n      {\n        \"date\": \"2025-07-04T00:00:00\",\n        \"num_updated\": 368403,\n        \"pct_ppa_updated\": 0.003727865796831314,\n        \"pct_updated\": 0.019470966931759995,\n        \"ppa_updated\": 20\n      },\n      {\n        \"date\": \"2025-07-05T00:00:00\",\n        \"num_updated\": 413547,\n        \"pct_ppa_updated\": 0.0035414725069897483,\n        \"pct_updated\": 0.02185693374301662,\n        \"ppa_updated\": 19\n      },\n      {\n        \"date\": \"2025-07-06T00:00:00\",\n        \"num_updated\": 461452,\n        \"pct_ppa_updated\": 0.019198508853681268,\n        \"pct_updated\": 0.0243888259123691,\n        \"ppa_updated\": 103\n      },\n      {\n        \"date\": \"2025-07-07T00:00:00\",\n        \"num_updated\": 407286,\n        \"pct_ppa_updated\": 0.005964585274930103,\n        \"pct_updated\": 0.021526025134889784,\n        \"ppa_updated\": 32\n      },\n      {\n        \"date\": \"2025-07-08T00:00:00\",\n        \"num_updated\": 335421,\n        \"pct_ppa_updated\": 0.010997204100652377,\n        \"pct_updated\": 0.017727790488182425,\n        \"ppa_updated\": 59\n      },\n      {\n        \"date\": \"2025-07-09T00:00:00\",\n        \"num_updated\": 392793,\n        \"pct_ppa_updated\": 0.00391425908667288,\n        \"pct_updated\": 0.020760035922690108,\n        \"ppa_updated\": 21\n      },\n      {\n        \"date\": \"2025-07-10T00:00:00\",\n        \"num_updated\": 445583,\n        \"pct_ppa_updated\": 0.005591798695246971,\n        \"pct_updated\": 0.023550111856728676,\n        \"ppa_updated\": 30\n      }\n    ]\n  },\n  \"resolve\": {\n    \"scale\": {\n      \"x\": \"shared\"\n    }\n  },\n  \"title\": \"Updates to PPA volumes in HathiTrust, May 01 to July 10 2025\",\n  \"usermeta\": {\n    \"embedOptions\": {}\n  },\n  \"vconcat\": [\n    {\n      \"encoding\": {\n        \"x\": {\n          \"axis\": {\n            \"format\": \"%B %d\",\n            \"tickCount\": \"week\"\n          },\n          \"field\": \"date\",\n          \"title\": \"\",\n          \"type\": \"temporal\"\n        },\n        \"y\": {\n          \"field\": \"ppa_updated\",\n          \"title\": \"# volumes updated\",\n          \"type\": \"quantitative\"\n        }\n      },\n      \"height\": 100,\n      \"mark\": {\n        \"color\": \"#f05b69\",\n        \"type\": \"bar\",\n        \"width\": 10\n      },\n      \"width\": 840\n    },\n    {\n      \"encoding\": {\n        \"x\": {\n          \"axis\": {\n            \"format\": \"%B %d\",\n            \"tickCount\": \"week\"\n          },\n          \"field\": \"date\",\n          \"title\": \"Date\",\n          \"type\": \"temporal\"\n        },\n        \"y\": {\n          \"field\": \"pct_ppa_updated\",\n          \"title\": \"% updated\",\n          \"type\": \"quantitative\"\n        }\n      },\n      \"height\": 100,\n      \"mark\": {\n        \"color\": \"#57c4c4\",\n        \"type\": \"bar\",\n        \"width\": 10\n      },\n      \"usermeta\": {\n        \"embedOptions\": {}\n      },\n      \"width\": 840\n    }\n  ]\n}"
     },
     "metadata": {},
     "output_type": "display_data"
    }
   ],
   "source": [
    "# ppa charts equivalent to above\n",
    "\n",
    "ppa_num_chart = (\n",
    "    alt.Chart(update_data_df)\n",
    "    .mark_bar(width=10, color=\"#f05b69\")\n",
    "    .encode(\n",
    "        x=alt.X(\"date\", title=\"\").axis(\n",
    "            format=\"%B %d\",\n",
    "            tickCount=\"week\",  # labels=False to suppress for combination\n",
    "        ),  # suppress labels since displayed together\n",
    "        y=alt.Y(\"ppa_updated\", title=\"# volumes updated\"),\n",
    "    )\n",
    "    .properties(\n",
    "        height=100,\n",
    "        width=840,\n",
    "        # title=f\"Updates to PPA volumes in HathiTrust, {earliest.strftime('%B %d')} to {latest.strftime('%B %d %Y')}\",\n",
    "    )\n",
    ")\n",
    "\n",
    "\n",
    "ppa_pct_chart = (\n",
    "    num_chart.mark_bar(width=10, color=\"#57c4c4\")\n",
    "    .encode(\n",
    "        x=alt.X(\"date\", title=\"Date\").axis(format=\"%B %d\", tickCount=\"week\"),\n",
    "        y=alt.Y(\"pct_ppa_updated\", title=\"% updated\"),\n",
    "    )\n",
    "    .properties(height=100)\n",
    ")\n",
    "\n",
    "ppa_combined_chart = (\n",
    "    (ppa_num_chart & ppa_pct_chart)\n",
    "    .properties(\n",
    "        title=f\"Updates to PPA volumes in HathiTrust, {earliest.strftime('%B %d')} to {latest.strftime('%B %d %Y')}\"\n",
    "    )\n",
    "    .resolve_scale(x=\"shared\")\n",
    ")\n",
    "# ppa_combined_chart.save(\"figures/ppa_hathitrust_changes.pdf\")\n",
    "ppa_combined_chart"
   ]
  },
  {
   "cell_type": "code",
   "execution_count": null,
   "id": "DnEU",
   "metadata": {},
   "outputs": [],
   "source": []
  },
  {
   "cell_type": "code",
   "execution_count": null,
   "id": "ulZA",
   "metadata": {},
   "outputs": [
    {
     "data": {
      "application/vnd.vegalite.v5+json": "{\n  \"$schema\": \"https://vega.github.io/schema/vega-lite/v5.20.1.json\",\n  \"config\": {\n    \"view\": {\n      \"continuousHeight\": 300,\n      \"continuousWidth\": 300\n    }\n  },\n  \"data\": {\n    \"name\": \"data-224658dfa57a8b78dfff885e230c5faa\"\n  },\n  \"datasets\": {\n    \"data-224658dfa57a8b78dfff885e230c5faa\": [\n      {\n        \"date\": \"2025-05-01T00:00:00\",\n        \"num_updated\": 459707,\n        \"pct_ppa_updated\": 0.007269338303821062,\n        \"pct_updated\": 0.024296598549139372,\n        \"ppa_updated\": 39\n      },\n      {\n        \"date\": \"2025-05-02T00:00:00\",\n        \"num_updated\": 377472,\n        \"pct_ppa_updated\": 0.012115563839701771,\n        \"pct_updated\": 0.01995028495876882,\n        \"ppa_updated\": 65\n      },\n      {\n        \"date\": \"2025-05-03T00:00:00\",\n        \"num_updated\": 423831,\n        \"pct_ppa_updated\": 0.021621621621621623,\n        \"pct_updated\": 0.022400467383964763,\n        \"ppa_updated\": 116\n      },\n      {\n        \"date\": \"2025-05-04T00:00:00\",\n        \"num_updated\": 265070,\n        \"pct_ppa_updated\": 0.025163094128611372,\n        \"pct_updated\": 0.014009574310202746,\n        \"ppa_updated\": 135\n      },\n      {\n        \"date\": \"2025-05-05T00:00:00\",\n        \"num_updated\": 420486,\n        \"pct_ppa_updated\": 0.020689655172413793,\n        \"pct_updated\": 0.022223676249292307,\n        \"ppa_updated\": 111\n      },\n      {\n        \"date\": \"2025-05-06T00:00:00\",\n        \"num_updated\": 457121,\n        \"pct_ppa_updated\": 0.009692451071761417,\n        \"pct_updated\": 0.02415992235354506,\n        \"ppa_updated\": 52\n      },\n      {\n        \"date\": \"2025-05-07T00:00:00\",\n        \"num_updated\": 118717,\n        \"pct_ppa_updated\": 0.001863932898415657,\n        \"pct_updated\": 0.006274473283979097,\n        \"ppa_updated\": 10\n      },\n      {\n        \"date\": \"2025-05-08T00:00:00\",\n        \"num_updated\": 403917,\n        \"pct_ppa_updated\": 0.004287045666356011,\n        \"pct_updated\": 0.021347965543645687,\n        \"ppa_updated\": 23\n      },\n      {\n        \"date\": \"2025-05-10T00:00:00\",\n        \"num_updated\": 675112,\n        \"pct_ppa_updated\": 0.01640260950605778,\n        \"pct_updated\": 0.03568126054140263,\n        \"ppa_updated\": 88\n      },\n      {\n        \"date\": \"2025-05-11T00:00:00\",\n        \"num_updated\": 440304,\n        \"pct_ppa_updated\": 0.009506057781919852,\n        \"pct_updated\": 0.023271104263324818,\n        \"ppa_updated\": 51\n      },\n      {\n        \"date\": \"2025-05-12T00:00:00\",\n        \"num_updated\": 289095,\n        \"pct_ppa_updated\": 0.00130475302889096,\n        \"pct_updated\": 0.015279352190772486,\n        \"ppa_updated\": 7\n      },\n      {\n        \"date\": \"2025-05-13T00:00:00\",\n        \"num_updated\": 316016,\n        \"pct_ppa_updated\": 0.00521901211556384,\n        \"pct_updated\": 0.016702190497653566,\n        \"ppa_updated\": 28\n      },\n      {\n        \"date\": \"2025-05-14T00:00:00\",\n        \"num_updated\": 575,\n        \"pct_ppa_updated\": 0.0,\n        \"pct_updated\": 3.0390105362231027e-05,\n        \"ppa_updated\": 0\n      },\n      {\n        \"date\": \"2025-05-15T00:00:00\",\n        \"num_updated\": 846329,\n        \"pct_ppa_updated\": 0.005032618825722274,\n        \"pct_updated\": 0.0447304825758463,\n        \"ppa_updated\": 27\n      },\n      {\n        \"date\": \"2025-05-16T00:00:00\",\n        \"num_updated\": 277052,\n        \"pct_ppa_updated\": 0.0001863932898415657,\n        \"pct_updated\": 0.014642851253594488,\n        \"ppa_updated\": 1\n      },\n      {\n        \"date\": \"2025-05-17T00:00:00\",\n        \"num_updated\": 48732,\n        \"pct_ppa_updated\": 0.0,\n        \"pct_updated\": 0.0025756010687169434,\n        \"ppa_updated\": 0\n      },\n      {\n        \"date\": \"2025-05-18T00:00:00\",\n        \"num_updated\": 48021,\n        \"pct_ppa_updated\": 0.003168685927306617,\n        \"pct_updated\": 0.0025380230427820803,\n        \"ppa_updated\": 17\n      },\n      {\n        \"date\": \"2025-05-19T00:00:00\",\n        \"num_updated\": 22824,\n        \"pct_ppa_updated\": 0.0,\n        \"pct_updated\": 0.0012063021996305409,\n        \"ppa_updated\": 0\n      },\n      {\n        \"date\": \"2025-05-20T00:00:00\",\n        \"num_updated\": 6751,\n        \"pct_ppa_updated\": 0.0,\n        \"pct_updated\": 0.0003568062631311681,\n        \"ppa_updated\": 0\n      },\n      {\n        \"date\": \"2025-05-21T00:00:00\",\n        \"num_updated\": 5356,\n        \"pct_ppa_updated\": 0.0,\n        \"pct_updated\": 0.00028307722490453804,\n        \"ppa_updated\": 0\n      },\n      {\n        \"date\": \"2025-05-22T00:00:00\",\n        \"num_updated\": 332550,\n        \"pct_ppa_updated\": 0.022367194780987885,\n        \"pct_updated\": 0.017576051370799876,\n        \"ppa_updated\": 120\n      },\n      {\n        \"date\": \"2025-05-23T00:00:00\",\n        \"num_updated\": 499195,\n        \"pct_ppa_updated\": 0.023299161230195712,\n        \"pct_updated\": 0.026383632428345946,\n        \"ppa_updated\": 125\n      },\n      {\n        \"date\": \"2025-05-24T00:00:00\",\n        \"num_updated\": 91672,\n        \"pct_ppa_updated\": 0.00130475302889096,\n        \"pct_updated\": 0.004845081284811205,\n        \"ppa_updated\": 7\n      },\n      {\n        \"date\": \"2025-05-25T00:00:00\",\n        \"num_updated\": 14506,\n        \"pct_ppa_updated\": 0.0,\n        \"pct_updated\": 0.0007666762928426492,\n        \"ppa_updated\": 0\n      },\n      {\n        \"date\": \"2025-05-26T00:00:00\",\n        \"num_updated\": 7544,\n        \"pct_ppa_updated\": 0.0,\n        \"pct_updated\": 0.00039871818235247107,\n        \"ppa_updated\": 0\n      },\n      {\n        \"date\": \"2025-05-27T00:00:00\",\n        \"num_updated\": 3881,\n        \"pct_ppa_updated\": 0.0003727865796831314,\n        \"pct_updated\": 0.0002051199981057715,\n        \"ppa_updated\": 2\n      },\n      {\n        \"date\": \"2025-05-28T00:00:00\",\n        \"num_updated\": 929,\n        \"pct_ppa_updated\": 0.0,\n        \"pct_updated\": 4.9099839793935e-05,\n        \"ppa_updated\": 0\n      },\n      {\n        \"date\": \"2025-05-29T00:00:00\",\n        \"num_updated\": 8020,\n        \"pct_ppa_updated\": 0.0,\n        \"pct_updated\": 0.0004238759043566832,\n        \"ppa_updated\": 0\n      },\n      {\n        \"date\": \"2025-05-30T00:00:00\",\n        \"num_updated\": 687959,\n        \"pct_ppa_updated\": 0.006337371854613234,\n        \"pct_updated\": 0.0363602547737306,\n        \"ppa_updated\": 34\n      },\n      {\n        \"date\": \"2025-05-31T00:00:00\",\n        \"num_updated\": 410943,\n        \"pct_ppa_updated\": 0.005032618825722274,\n        \"pct_updated\": 0.021719306204993575,\n        \"ppa_updated\": 27\n      },\n      {\n        \"date\": \"2025-06-01T00:00:00\",\n        \"num_updated\": 615189,\n        \"pct_ppa_updated\": 0.008014911463187325,\n        \"pct_updated\": 0.032514188743800944,\n        \"ppa_updated\": 43\n      },\n      {\n        \"date\": \"2025-06-02T00:00:00\",\n        \"num_updated\": 419028,\n        \"pct_ppa_updated\": 0.023112767940354148,\n        \"pct_updated\": 0.02214661751256512,\n        \"ppa_updated\": 124\n      },\n      {\n        \"date\": \"2025-06-03T00:00:00\",\n        \"num_updated\": 465977,\n        \"pct_ppa_updated\": 0.012301957129543337,\n        \"pct_updated\": 0.02462798282848057,\n        \"ppa_updated\": 66\n      },\n      {\n        \"date\": \"2025-06-04T00:00:00\",\n        \"num_updated\": 358816,\n        \"pct_ppa_updated\": 0.0029822926374650513,\n        \"pct_updated\": 0.018964271383746588,\n        \"ppa_updated\": 16\n      },\n      {\n        \"date\": \"2025-06-05T00:00:00\",\n        \"num_updated\": 359528,\n        \"pct_ppa_updated\": 0.007269338303821062,\n        \"pct_updated\": 0.019001902262038604,\n        \"ppa_updated\": 39\n      },\n      {\n        \"date\": \"2025-06-06T00:00:00\",\n        \"num_updated\": 342298,\n        \"pct_ppa_updated\": 0.01342031686859273,\n        \"pct_updated\": 0.018091256148314708,\n        \"ppa_updated\": 72\n      },\n      {\n        \"date\": \"2025-06-07T00:00:00\",\n        \"num_updated\": 449139,\n        \"pct_ppa_updated\": 0.011369990680335508,\n        \"pct_updated\": 0.023738054838760143,\n        \"ppa_updated\": 61\n      },\n      {\n        \"date\": \"2025-06-08T00:00:00\",\n        \"num_updated\": 513151,\n        \"pct_ppa_updated\": 0.018639328984156572,\n        \"pct_updated\": 0.027121239924755156,\n        \"ppa_updated\": 100\n      },\n      {\n        \"date\": \"2025-06-09T00:00:00\",\n        \"num_updated\": 312105,\n        \"pct_ppa_updated\": 0.008387698042870456,\n        \"pct_updated\": 0.016495484928833244,\n        \"ppa_updated\": 45\n      },\n      {\n        \"date\": \"2025-06-10T00:00:00\",\n        \"num_updated\": 378394,\n        \"pct_ppa_updated\": 0.00913327120223672,\n        \"pct_updated\": 0.019999014832062692,\n        \"ppa_updated\": 49\n      },\n      {\n        \"date\": \"2025-06-11T00:00:00\",\n        \"num_updated\": 582708,\n        \"pct_ppa_updated\": 0.025908667287977635,\n        \"pct_updated\": 0.03079749133115638,\n        \"ppa_updated\": 139\n      },\n      {\n        \"date\": \"2025-06-12T00:00:00\",\n        \"num_updated\": 515628,\n        \"pct_ppa_updated\": 0.010810810810810811,\n        \"pct_updated\": 0.02725215521341993,\n        \"ppa_updated\": 58\n      },\n      {\n        \"date\": \"2025-06-13T00:00:00\",\n        \"num_updated\": 495513,\n        \"pct_ppa_updated\": 0.007642124883504194,\n        \"pct_updated\": 0.02618903004931336,\n        \"ppa_updated\": 41\n      },\n      {\n        \"date\": \"2025-06-14T00:00:00\",\n        \"num_updated\": 437156,\n        \"pct_ppa_updated\": 0.0016775396085740913,\n        \"pct_updated\": 0.023104725043011247,\n        \"ppa_updated\": 9\n      },\n      {\n        \"date\": \"2025-06-15T00:00:00\",\n        \"num_updated\": 487611,\n        \"pct_ppa_updated\": 0.004100652376514445,\n        \"pct_updated\": 0.02577139072310058,\n        \"ppa_updated\": 22\n      },\n      {\n        \"date\": \"2025-06-16T00:00:00\",\n        \"num_updated\": 446809,\n        \"pct_ppa_updated\": 0.0035414725069897483,\n        \"pct_updated\": 0.023614908846596668,\n        \"ppa_updated\": 19\n      },\n      {\n        \"date\": \"2025-06-17T00:00:00\",\n        \"num_updated\": 542288,\n        \"pct_ppa_updated\": 0.013233923578751165,\n        \"pct_updated\": 0.028661199055084418,\n        \"ppa_updated\": 71\n      },\n      {\n        \"date\": \"2025-06-18T00:00:00\",\n        \"num_updated\": 559878,\n        \"pct_ppa_updated\": 0.009878844361602983,\n        \"pct_updated\": 0.02959087201738293,\n        \"ppa_updated\": 53\n      },\n      {\n        \"date\": \"2025-06-19T00:00:00\",\n        \"num_updated\": 408969,\n        \"pct_ppa_updated\": 0.016775396085740912,\n        \"pct_updated\": 0.021614975651976107,\n        \"ppa_updated\": 90\n      },\n      {\n        \"date\": \"2025-06-20T00:00:00\",\n        \"num_updated\": 280371,\n        \"pct_ppa_updated\": 0.007269338303821062,\n        \"pct_updated\": 0.014818268226981,\n        \"ppa_updated\": 39\n      },\n      {\n        \"date\": \"2025-06-21T00:00:00\",\n        \"num_updated\": 381278,\n        \"pct_ppa_updated\": 0.016775396085740912,\n        \"pct_updated\": 0.020151441030088212,\n        \"ppa_updated\": 90\n      },\n      {\n        \"date\": \"2025-06-22T00:00:00\",\n        \"num_updated\": 505103,\n        \"pct_ppa_updated\": 0.019198508853681268,\n        \"pct_updated\": 0.026695884154398223,\n        \"ppa_updated\": 103\n      },\n      {\n        \"date\": \"2025-06-23T00:00:00\",\n        \"num_updated\": 417529,\n        \"pct_ppa_updated\": 0.004846225535880709,\n        \"pct_updated\": 0.02206739182919471,\n        \"ppa_updated\": 26\n      },\n      {\n        \"date\": \"2025-06-24T00:00:00\",\n        \"num_updated\": 647451,\n        \"pct_ppa_updated\": 0.00782851817334576,\n        \"pct_updated\": 0.03421931149022929,\n        \"ppa_updated\": 42\n      },\n      {\n        \"date\": \"2025-06-25T00:00:00\",\n        \"num_updated\": 470756,\n        \"pct_ppa_updated\": 0.004100652376514445,\n        \"pct_updated\": 0.024880564243308572,\n        \"ppa_updated\": 22\n      },\n      {\n        \"date\": \"2025-06-26T00:00:00\",\n        \"num_updated\": 449417,\n        \"pct_ppa_updated\": 0.014165890027958993,\n        \"pct_updated\": 0.023752747794048318,\n        \"ppa_updated\": 76\n      },\n      {\n        \"date\": \"2025-06-27T00:00:00\",\n        \"num_updated\": 405193,\n        \"pct_ppa_updated\": 0.008946877912395155,\n        \"pct_updated\": 0.021415405151371265,\n        \"ppa_updated\": 48\n      },\n      {\n        \"date\": \"2025-06-28T00:00:00\",\n        \"num_updated\": 497475,\n        \"pct_ppa_updated\": 0.008760484622553587,\n        \"pct_updated\": 0.02629272637404501,\n        \"ppa_updated\": 47\n      },\n      {\n        \"date\": \"2025-06-29T00:00:00\",\n        \"num_updated\": 161896,\n        \"pct_ppa_updated\": 0.00521901211556384,\n        \"pct_updated\": 0.008556585213432617,\n        \"ppa_updated\": 28\n      },\n      {\n        \"date\": \"2025-06-30T00:00:00\",\n        \"num_updated\": 40566,\n        \"pct_ppa_updated\": 0.0007455731593662628,\n        \"pct_updated\": 0.002144008720216111,\n        \"ppa_updated\": 4\n      },\n      {\n        \"date\": \"2025-07-01T00:00:00\",\n        \"num_updated\": 17230,\n        \"pct_ppa_updated\": 0.0,\n        \"pct_updated\": 0.0009106461137238967,\n        \"ppa_updated\": 0\n      },\n      {\n        \"date\": \"2025-07-02T00:00:00\",\n        \"num_updated\": 285218,\n        \"pct_ppa_updated\": 0.004100652376514445,\n        \"pct_updated\": 0.015074443602095321,\n        \"ppa_updated\": 22\n      },\n      {\n        \"date\": \"2025-07-03T00:00:00\",\n        \"num_updated\": 353668,\n        \"pct_ppa_updated\": 0.006337371854613234,\n        \"pct_updated\": 0.018692187449129604,\n        \"ppa_updated\": 34\n      },\n      {\n        \"date\": \"2025-07-04T00:00:00\",\n        \"num_updated\": 368403,\n        \"pct_ppa_updated\": 0.003727865796831314,\n        \"pct_updated\": 0.019470966931759995,\n        \"ppa_updated\": 20\n      },\n      {\n        \"date\": \"2025-07-05T00:00:00\",\n        \"num_updated\": 413547,\n        \"pct_ppa_updated\": 0.0035414725069897483,\n        \"pct_updated\": 0.02185693374301662,\n        \"ppa_updated\": 19\n      },\n      {\n        \"date\": \"2025-07-06T00:00:00\",\n        \"num_updated\": 461452,\n        \"pct_ppa_updated\": 0.019198508853681268,\n        \"pct_updated\": 0.0243888259123691,\n        \"ppa_updated\": 103\n      },\n      {\n        \"date\": \"2025-07-07T00:00:00\",\n        \"num_updated\": 407286,\n        \"pct_ppa_updated\": 0.005964585274930103,\n        \"pct_updated\": 0.021526025134889784,\n        \"ppa_updated\": 32\n      },\n      {\n        \"date\": \"2025-07-08T00:00:00\",\n        \"num_updated\": 335421,\n        \"pct_ppa_updated\": 0.010997204100652377,\n        \"pct_updated\": 0.017727790488182425,\n        \"ppa_updated\": 59\n      },\n      {\n        \"date\": \"2025-07-09T00:00:00\",\n        \"num_updated\": 392793,\n        \"pct_ppa_updated\": 0.00391425908667288,\n        \"pct_updated\": 0.020760035922690108,\n        \"ppa_updated\": 21\n      },\n      {\n        \"date\": \"2025-07-10T00:00:00\",\n        \"num_updated\": 445583,\n        \"pct_ppa_updated\": 0.005591798695246971,\n        \"pct_updated\": 0.023550111856728676,\n        \"ppa_updated\": 30\n      }\n    ]\n  },\n  \"encoding\": {\n    \"x\": {\n      \"axis\": {\n        \"format\": \"%B %d\",\n        \"tickCount\": \"week\"\n      },\n      \"field\": \"date\",\n      \"title\": \"\",\n      \"type\": \"temporal\"\n    },\n    \"y\": {\n      \"field\": \"ppa_updated\",\n      \"title\": \"# volumes updated\",\n      \"type\": \"quantitative\"\n    }\n  },\n  \"height\": 100,\n  \"mark\": {\n    \"color\": \"#f05b69\",\n    \"type\": \"bar\",\n    \"width\": 10\n  },\n  \"usermeta\": {\n    \"embedOptions\": {}\n  },\n  \"width\": 840\n}"
     },
     "metadata": {},
     "output_type": "display_data"
    }
   ],
   "source": [
    "# num_chart.save(\"figures/hathitrust_changes_countonly.pdf\")\n",
    "ppa_num_chart.save(\"figures/ppa_hathitrust_changes_countonly.pdf\")\n",
    "ppa_num_chart"
   ]
  },
  {
   "cell_type": "code",
   "execution_count": null,
   "id": "ecfG",
   "metadata": {},
   "outputs": [
    {
     "data": {
      "application/vnd.vegalite.v5+json": "{\n  \"$schema\": \"https://vega.github.io/schema/vega-lite/v5.20.1.json\",\n  \"config\": {\n    \"view\": {\n      \"continuousHeight\": 300,\n      \"continuousWidth\": 300\n    }\n  },\n  \"data\": {\n    \"name\": \"data-224658dfa57a8b78dfff885e230c5faa\"\n  },\n  \"datasets\": {\n    \"data-224658dfa57a8b78dfff885e230c5faa\": [\n      {\n        \"date\": \"2025-05-01T00:00:00\",\n        \"num_updated\": 459707,\n        \"pct_ppa_updated\": 0.007269338303821062,\n        \"pct_updated\": 0.024296598549139372,\n        \"ppa_updated\": 39\n      },\n      {\n        \"date\": \"2025-05-02T00:00:00\",\n        \"num_updated\": 377472,\n        \"pct_ppa_updated\": 0.012115563839701771,\n        \"pct_updated\": 0.01995028495876882,\n        \"ppa_updated\": 65\n      },\n      {\n        \"date\": \"2025-05-03T00:00:00\",\n        \"num_updated\": 423831,\n        \"pct_ppa_updated\": 0.021621621621621623,\n        \"pct_updated\": 0.022400467383964763,\n        \"ppa_updated\": 116\n      },\n      {\n        \"date\": \"2025-05-04T00:00:00\",\n        \"num_updated\": 265070,\n        \"pct_ppa_updated\": 0.025163094128611372,\n        \"pct_updated\": 0.014009574310202746,\n        \"ppa_updated\": 135\n      },\n      {\n        \"date\": \"2025-05-05T00:00:00\",\n        \"num_updated\": 420486,\n        \"pct_ppa_updated\": 0.020689655172413793,\n        \"pct_updated\": 0.022223676249292307,\n        \"ppa_updated\": 111\n      },\n      {\n        \"date\": \"2025-05-06T00:00:00\",\n        \"num_updated\": 457121,\n        \"pct_ppa_updated\": 0.009692451071761417,\n        \"pct_updated\": 0.02415992235354506,\n        \"ppa_updated\": 52\n      },\n      {\n        \"date\": \"2025-05-07T00:00:00\",\n        \"num_updated\": 118717,\n        \"pct_ppa_updated\": 0.001863932898415657,\n        \"pct_updated\": 0.006274473283979097,\n        \"ppa_updated\": 10\n      },\n      {\n        \"date\": \"2025-05-08T00:00:00\",\n        \"num_updated\": 403917,\n        \"pct_ppa_updated\": 0.004287045666356011,\n        \"pct_updated\": 0.021347965543645687,\n        \"ppa_updated\": 23\n      },\n      {\n        \"date\": \"2025-05-10T00:00:00\",\n        \"num_updated\": 675112,\n        \"pct_ppa_updated\": 0.01640260950605778,\n        \"pct_updated\": 0.03568126054140263,\n        \"ppa_updated\": 88\n      },\n      {\n        \"date\": \"2025-05-11T00:00:00\",\n        \"num_updated\": 440304,\n        \"pct_ppa_updated\": 0.009506057781919852,\n        \"pct_updated\": 0.023271104263324818,\n        \"ppa_updated\": 51\n      },\n      {\n        \"date\": \"2025-05-12T00:00:00\",\n        \"num_updated\": 289095,\n        \"pct_ppa_updated\": 0.00130475302889096,\n        \"pct_updated\": 0.015279352190772486,\n        \"ppa_updated\": 7\n      },\n      {\n        \"date\": \"2025-05-13T00:00:00\",\n        \"num_updated\": 316016,\n        \"pct_ppa_updated\": 0.00521901211556384,\n        \"pct_updated\": 0.016702190497653566,\n        \"ppa_updated\": 28\n      },\n      {\n        \"date\": \"2025-05-14T00:00:00\",\n        \"num_updated\": 575,\n        \"pct_ppa_updated\": 0.0,\n        \"pct_updated\": 3.0390105362231027e-05,\n        \"ppa_updated\": 0\n      },\n      {\n        \"date\": \"2025-05-15T00:00:00\",\n        \"num_updated\": 846329,\n        \"pct_ppa_updated\": 0.005032618825722274,\n        \"pct_updated\": 0.0447304825758463,\n        \"ppa_updated\": 27\n      },\n      {\n        \"date\": \"2025-05-16T00:00:00\",\n        \"num_updated\": 277052,\n        \"pct_ppa_updated\": 0.0001863932898415657,\n        \"pct_updated\": 0.014642851253594488,\n        \"ppa_updated\": 1\n      },\n      {\n        \"date\": \"2025-05-17T00:00:00\",\n        \"num_updated\": 48732,\n        \"pct_ppa_updated\": 0.0,\n        \"pct_updated\": 0.0025756010687169434,\n        \"ppa_updated\": 0\n      },\n      {\n        \"date\": \"2025-05-18T00:00:00\",\n        \"num_updated\": 48021,\n        \"pct_ppa_updated\": 0.003168685927306617,\n        \"pct_updated\": 0.0025380230427820803,\n        \"ppa_updated\": 17\n      },\n      {\n        \"date\": \"2025-05-19T00:00:00\",\n        \"num_updated\": 22824,\n        \"pct_ppa_updated\": 0.0,\n        \"pct_updated\": 0.0012063021996305409,\n        \"ppa_updated\": 0\n      },\n      {\n        \"date\": \"2025-05-20T00:00:00\",\n        \"num_updated\": 6751,\n        \"pct_ppa_updated\": 0.0,\n        \"pct_updated\": 0.0003568062631311681,\n        \"ppa_updated\": 0\n      },\n      {\n        \"date\": \"2025-05-21T00:00:00\",\n        \"num_updated\": 5356,\n        \"pct_ppa_updated\": 0.0,\n        \"pct_updated\": 0.00028307722490453804,\n        \"ppa_updated\": 0\n      },\n      {\n        \"date\": \"2025-05-22T00:00:00\",\n        \"num_updated\": 332550,\n        \"pct_ppa_updated\": 0.022367194780987885,\n        \"pct_updated\": 0.017576051370799876,\n        \"ppa_updated\": 120\n      },\n      {\n        \"date\": \"2025-05-23T00:00:00\",\n        \"num_updated\": 499195,\n        \"pct_ppa_updated\": 0.023299161230195712,\n        \"pct_updated\": 0.026383632428345946,\n        \"ppa_updated\": 125\n      },\n      {\n        \"date\": \"2025-05-24T00:00:00\",\n        \"num_updated\": 91672,\n        \"pct_ppa_updated\": 0.00130475302889096,\n        \"pct_updated\": 0.004845081284811205,\n        \"ppa_updated\": 7\n      },\n      {\n        \"date\": \"2025-05-25T00:00:00\",\n        \"num_updated\": 14506,\n        \"pct_ppa_updated\": 0.0,\n        \"pct_updated\": 0.0007666762928426492,\n        \"ppa_updated\": 0\n      },\n      {\n        \"date\": \"2025-05-26T00:00:00\",\n        \"num_updated\": 7544,\n        \"pct_ppa_updated\": 0.0,\n        \"pct_updated\": 0.00039871818235247107,\n        \"ppa_updated\": 0\n      },\n      {\n        \"date\": \"2025-05-27T00:00:00\",\n        \"num_updated\": 3881,\n        \"pct_ppa_updated\": 0.0003727865796831314,\n        \"pct_updated\": 0.0002051199981057715,\n        \"ppa_updated\": 2\n      },\n      {\n        \"date\": \"2025-05-28T00:00:00\",\n        \"num_updated\": 929,\n        \"pct_ppa_updated\": 0.0,\n        \"pct_updated\": 4.9099839793935e-05,\n        \"ppa_updated\": 0\n      },\n      {\n        \"date\": \"2025-05-29T00:00:00\",\n        \"num_updated\": 8020,\n        \"pct_ppa_updated\": 0.0,\n        \"pct_updated\": 0.0004238759043566832,\n        \"ppa_updated\": 0\n      },\n      {\n        \"date\": \"2025-05-30T00:00:00\",\n        \"num_updated\": 687959,\n        \"pct_ppa_updated\": 0.006337371854613234,\n        \"pct_updated\": 0.0363602547737306,\n        \"ppa_updated\": 34\n      },\n      {\n        \"date\": \"2025-05-31T00:00:00\",\n        \"num_updated\": 410943,\n        \"pct_ppa_updated\": 0.005032618825722274,\n        \"pct_updated\": 0.021719306204993575,\n        \"ppa_updated\": 27\n      },\n      {\n        \"date\": \"2025-06-01T00:00:00\",\n        \"num_updated\": 615189,\n        \"pct_ppa_updated\": 0.008014911463187325,\n        \"pct_updated\": 0.032514188743800944,\n        \"ppa_updated\": 43\n      },\n      {\n        \"date\": \"2025-06-02T00:00:00\",\n        \"num_updated\": 419028,\n        \"pct_ppa_updated\": 0.023112767940354148,\n        \"pct_updated\": 0.02214661751256512,\n        \"ppa_updated\": 124\n      },\n      {\n        \"date\": \"2025-06-03T00:00:00\",\n        \"num_updated\": 465977,\n        \"pct_ppa_updated\": 0.012301957129543337,\n        \"pct_updated\": 0.02462798282848057,\n        \"ppa_updated\": 66\n      },\n      {\n        \"date\": \"2025-06-04T00:00:00\",\n        \"num_updated\": 358816,\n        \"pct_ppa_updated\": 0.0029822926374650513,\n        \"pct_updated\": 0.018964271383746588,\n        \"ppa_updated\": 16\n      },\n      {\n        \"date\": \"2025-06-05T00:00:00\",\n        \"num_updated\": 359528,\n        \"pct_ppa_updated\": 0.007269338303821062,\n        \"pct_updated\": 0.019001902262038604,\n        \"ppa_updated\": 39\n      },\n      {\n        \"date\": \"2025-06-06T00:00:00\",\n        \"num_updated\": 342298,\n        \"pct_ppa_updated\": 0.01342031686859273,\n        \"pct_updated\": 0.018091256148314708,\n        \"ppa_updated\": 72\n      },\n      {\n        \"date\": \"2025-06-07T00:00:00\",\n        \"num_updated\": 449139,\n        \"pct_ppa_updated\": 0.011369990680335508,\n        \"pct_updated\": 0.023738054838760143,\n        \"ppa_updated\": 61\n      },\n      {\n        \"date\": \"2025-06-08T00:00:00\",\n        \"num_updated\": 513151,\n        \"pct_ppa_updated\": 0.018639328984156572,\n        \"pct_updated\": 0.027121239924755156,\n        \"ppa_updated\": 100\n      },\n      {\n        \"date\": \"2025-06-09T00:00:00\",\n        \"num_updated\": 312105,\n        \"pct_ppa_updated\": 0.008387698042870456,\n        \"pct_updated\": 0.016495484928833244,\n        \"ppa_updated\": 45\n      },\n      {\n        \"date\": \"2025-06-10T00:00:00\",\n        \"num_updated\": 378394,\n        \"pct_ppa_updated\": 0.00913327120223672,\n        \"pct_updated\": 0.019999014832062692,\n        \"ppa_updated\": 49\n      },\n      {\n        \"date\": \"2025-06-11T00:00:00\",\n        \"num_updated\": 582708,\n        \"pct_ppa_updated\": 0.025908667287977635,\n        \"pct_updated\": 0.03079749133115638,\n        \"ppa_updated\": 139\n      },\n      {\n        \"date\": \"2025-06-12T00:00:00\",\n        \"num_updated\": 515628,\n        \"pct_ppa_updated\": 0.010810810810810811,\n        \"pct_updated\": 0.02725215521341993,\n        \"ppa_updated\": 58\n      },\n      {\n        \"date\": \"2025-06-13T00:00:00\",\n        \"num_updated\": 495513,\n        \"pct_ppa_updated\": 0.007642124883504194,\n        \"pct_updated\": 0.02618903004931336,\n        \"ppa_updated\": 41\n      },\n      {\n        \"date\": \"2025-06-14T00:00:00\",\n        \"num_updated\": 437156,\n        \"pct_ppa_updated\": 0.0016775396085740913,\n        \"pct_updated\": 0.023104725043011247,\n        \"ppa_updated\": 9\n      },\n      {\n        \"date\": \"2025-06-15T00:00:00\",\n        \"num_updated\": 487611,\n        \"pct_ppa_updated\": 0.004100652376514445,\n        \"pct_updated\": 0.02577139072310058,\n        \"ppa_updated\": 22\n      },\n      {\n        \"date\": \"2025-06-16T00:00:00\",\n        \"num_updated\": 446809,\n        \"pct_ppa_updated\": 0.0035414725069897483,\n        \"pct_updated\": 0.023614908846596668,\n        \"ppa_updated\": 19\n      },\n      {\n        \"date\": \"2025-06-17T00:00:00\",\n        \"num_updated\": 542288,\n        \"pct_ppa_updated\": 0.013233923578751165,\n        \"pct_updated\": 0.028661199055084418,\n        \"ppa_updated\": 71\n      },\n      {\n        \"date\": \"2025-06-18T00:00:00\",\n        \"num_updated\": 559878,\n        \"pct_ppa_updated\": 0.009878844361602983,\n        \"pct_updated\": 0.02959087201738293,\n        \"ppa_updated\": 53\n      },\n      {\n        \"date\": \"2025-06-19T00:00:00\",\n        \"num_updated\": 408969,\n        \"pct_ppa_updated\": 0.016775396085740912,\n        \"pct_updated\": 0.021614975651976107,\n        \"ppa_updated\": 90\n      },\n      {\n        \"date\": \"2025-06-20T00:00:00\",\n        \"num_updated\": 280371,\n        \"pct_ppa_updated\": 0.007269338303821062,\n        \"pct_updated\": 0.014818268226981,\n        \"ppa_updated\": 39\n      },\n      {\n        \"date\": \"2025-06-21T00:00:00\",\n        \"num_updated\": 381278,\n        \"pct_ppa_updated\": 0.016775396085740912,\n        \"pct_updated\": 0.020151441030088212,\n        \"ppa_updated\": 90\n      },\n      {\n        \"date\": \"2025-06-22T00:00:00\",\n        \"num_updated\": 505103,\n        \"pct_ppa_updated\": 0.019198508853681268,\n        \"pct_updated\": 0.026695884154398223,\n        \"ppa_updated\": 103\n      },\n      {\n        \"date\": \"2025-06-23T00:00:00\",\n        \"num_updated\": 417529,\n        \"pct_ppa_updated\": 0.004846225535880709,\n        \"pct_updated\": 0.02206739182919471,\n        \"ppa_updated\": 26\n      },\n      {\n        \"date\": \"2025-06-24T00:00:00\",\n        \"num_updated\": 647451,\n        \"pct_ppa_updated\": 0.00782851817334576,\n        \"pct_updated\": 0.03421931149022929,\n        \"ppa_updated\": 42\n      },\n      {\n        \"date\": \"2025-06-25T00:00:00\",\n        \"num_updated\": 470756,\n        \"pct_ppa_updated\": 0.004100652376514445,\n        \"pct_updated\": 0.024880564243308572,\n        \"ppa_updated\": 22\n      },\n      {\n        \"date\": \"2025-06-26T00:00:00\",\n        \"num_updated\": 449417,\n        \"pct_ppa_updated\": 0.014165890027958993,\n        \"pct_updated\": 0.023752747794048318,\n        \"ppa_updated\": 76\n      },\n      {\n        \"date\": \"2025-06-27T00:00:00\",\n        \"num_updated\": 405193,\n        \"pct_ppa_updated\": 0.008946877912395155,\n        \"pct_updated\": 0.021415405151371265,\n        \"ppa_updated\": 48\n      },\n      {\n        \"date\": \"2025-06-28T00:00:00\",\n        \"num_updated\": 497475,\n        \"pct_ppa_updated\": 0.008760484622553587,\n        \"pct_updated\": 0.02629272637404501,\n        \"ppa_updated\": 47\n      },\n      {\n        \"date\": \"2025-06-29T00:00:00\",\n        \"num_updated\": 161896,\n        \"pct_ppa_updated\": 0.00521901211556384,\n        \"pct_updated\": 0.008556585213432617,\n        \"ppa_updated\": 28\n      },\n      {\n        \"date\": \"2025-06-30T00:00:00\",\n        \"num_updated\": 40566,\n        \"pct_ppa_updated\": 0.0007455731593662628,\n        \"pct_updated\": 0.002144008720216111,\n        \"ppa_updated\": 4\n      },\n      {\n        \"date\": \"2025-07-01T00:00:00\",\n        \"num_updated\": 17230,\n        \"pct_ppa_updated\": 0.0,\n        \"pct_updated\": 0.0009106461137238967,\n        \"ppa_updated\": 0\n      },\n      {\n        \"date\": \"2025-07-02T00:00:00\",\n        \"num_updated\": 285218,\n        \"pct_ppa_updated\": 0.004100652376514445,\n        \"pct_updated\": 0.015074443602095321,\n        \"ppa_updated\": 22\n      },\n      {\n        \"date\": \"2025-07-03T00:00:00\",\n        \"num_updated\": 353668,\n        \"pct_ppa_updated\": 0.006337371854613234,\n        \"pct_updated\": 0.018692187449129604,\n        \"ppa_updated\": 34\n      },\n      {\n        \"date\": \"2025-07-04T00:00:00\",\n        \"num_updated\": 368403,\n        \"pct_ppa_updated\": 0.003727865796831314,\n        \"pct_updated\": 0.019470966931759995,\n        \"ppa_updated\": 20\n      },\n      {\n        \"date\": \"2025-07-05T00:00:00\",\n        \"num_updated\": 413547,\n        \"pct_ppa_updated\": 0.0035414725069897483,\n        \"pct_updated\": 0.02185693374301662,\n        \"ppa_updated\": 19\n      },\n      {\n        \"date\": \"2025-07-06T00:00:00\",\n        \"num_updated\": 461452,\n        \"pct_ppa_updated\": 0.019198508853681268,\n        \"pct_updated\": 0.0243888259123691,\n        \"ppa_updated\": 103\n      },\n      {\n        \"date\": \"2025-07-07T00:00:00\",\n        \"num_updated\": 407286,\n        \"pct_ppa_updated\": 0.005964585274930103,\n        \"pct_updated\": 0.021526025134889784,\n        \"ppa_updated\": 32\n      },\n      {\n        \"date\": \"2025-07-08T00:00:00\",\n        \"num_updated\": 335421,\n        \"pct_ppa_updated\": 0.010997204100652377,\n        \"pct_updated\": 0.017727790488182425,\n        \"ppa_updated\": 59\n      },\n      {\n        \"date\": \"2025-07-09T00:00:00\",\n        \"num_updated\": 392793,\n        \"pct_ppa_updated\": 0.00391425908667288,\n        \"pct_updated\": 0.020760035922690108,\n        \"ppa_updated\": 21\n      },\n      {\n        \"date\": \"2025-07-10T00:00:00\",\n        \"num_updated\": 445583,\n        \"pct_ppa_updated\": 0.005591798695246971,\n        \"pct_updated\": 0.023550111856728676,\n        \"ppa_updated\": 30\n      }\n    ]\n  },\n  \"resolve\": {\n    \"axis\": {\n      \"x\": \"shared\"\n    }\n  },\n  \"title\": \"Updates to PPA HathiTrust volumes and all of HathiTrust, May 01 to July 10 2025\",\n  \"usermeta\": {\n    \"embedOptions\": {}\n  },\n  \"vconcat\": [\n    {\n      \"encoding\": {\n        \"x\": {\n          \"axis\": {\n            \"format\": \"%B %d\",\n            \"tickCount\": \"week\"\n          },\n          \"field\": \"date\",\n          \"title\": \"\",\n          \"type\": \"temporal\"\n        },\n        \"y\": {\n          \"field\": \"ppa_updated\",\n          \"title\": \"# volumes updated\",\n          \"type\": \"quantitative\"\n        }\n      },\n      \"height\": 100,\n      \"mark\": {\n        \"color\": \"#f05b69\",\n        \"type\": \"bar\",\n        \"width\": 10\n      },\n      \"usermeta\": {\n        \"embedOptions\": {}\n      },\n      \"width\": 840\n    },\n    {\n      \"encoding\": {\n        \"x\": {\n          \"axis\": {\n            \"format\": \"%B %d\",\n            \"tickCount\": \"week\"\n          },\n          \"field\": \"date\",\n          \"title\": \"Date\",\n          \"type\": \"temporal\"\n        },\n        \"y\": {\n          \"field\": \"num_updated\",\n          \"title\": \"# updated\",\n          \"type\": \"quantitative\"\n        }\n      },\n      \"height\": 100,\n      \"mark\": {\n        \"color\": \"#4661ac\",\n        \"type\": \"bar\",\n        \"width\": 10\n      },\n      \"usermeta\": {\n        \"embedOptions\": {}\n      },\n      \"width\": 840\n    }\n  ]\n}"
     },
     "metadata": {},
     "output_type": "display_data"
    }
   ],
   "source": [
    "ppa_ht_numchart = (\n",
    "    alt.vconcat(ppa_num_chart, num_chart)\n",
    "    .resolve_axis(x=\"shared\")\n",
    "    .properties(\n",
    "        title=f\"Updates to PPA HathiTrust volumes and all of HathiTrust, {earliest.strftime('%B %d')} to {latest.strftime('%B %d %Y')}\"\n",
    "    )\n",
    ")\n",
    "\n",
    "# saving this chart fails for smoe reason\n",
    "# ppa_ht_numchart.save(\"figures/ppa_and_hathitrust_changes.pdf\")\n",
    "\n",
    "ppa_ht_numchart"
   ]
  },
  {
   "cell_type": "markdown",
   "id": "Pvdt",
   "metadata": {},
   "source": [
    "## deletions from public domain dataset"
   ]
  },
  {
   "cell_type": "code",
   "execution_count": null,
   "id": "ZBYS",
   "metadata": {},
   "outputs": [
    {
     "data": {
      "text/html": [
       "<marimo-ui-element object-id='ecfG-0' random-id='abd839aa-281d-cfec-5dfa-9a591e2ce93a'><marimo-table data-initial-value='[]' data-label='null' data-data='&quot;[{&#92;&quot;date&#92;&quot;:&#92;&quot;2025-01-01&#92;&quot;,&#92;&quot;count&#92;&quot;:111,&#92;&quot;percent&#92;&quot;:5.866611643839381e-06},{&#92;&quot;date&#92;&quot;:&#92;&quot;2025-02-01&#92;&quot;,&#92;&quot;count&#92;&quot;:191,&#92;&quot;percent&#92;&quot;:1.0094800215975872e-05},{&#92;&quot;date&#92;&quot;:&#92;&quot;2025-03-01&#92;&quot;,&#92;&quot;count&#92;&quot;:81,&#92;&quot;percent&#92;&quot;:4.281040929288197e-06},{&#92;&quot;date&#92;&quot;:&#92;&quot;2025-04-01&#92;&quot;,&#92;&quot;count&#92;&quot;:182,&#92;&quot;percent&#92;&quot;:9.619129001610516e-06},{&#92;&quot;date&#92;&quot;:&#92;&quot;2025-05-01&#92;&quot;,&#92;&quot;count&#92;&quot;:236,&#92;&quot;percent&#92;&quot;:1.2473156287802648e-05},{&#92;&quot;date&#92;&quot;:&#92;&quot;2025-06-01&#92;&quot;,&#92;&quot;count&#92;&quot;:89,&#92;&quot;percent&#92;&quot;:4.703859786501846e-06}]&quot;' data-total-rows='6' data-total-columns='3' data-max-columns='50' data-banner-text='&quot;&quot;' data-pagination='true' data-page-size='10' data-field-types='[[&quot;date&quot;, [&quot;date&quot;, &quot;date&quot;]], [&quot;count&quot;, [&quot;integer&quot;, &quot;i64&quot;]], [&quot;percent&quot;, [&quot;number&quot;, &quot;f64&quot;]]]' data-show-filters='true' data-show-download='true' data-show-column-summaries='false' data-row-headers='[]' data-has-stable-row-id='false' data-lazy='false' data-preload='false'></marimo-table></marimo-ui-element>"
      ]
     },
     "metadata": {},
     "output_type": "display_data"
    }
   ],
   "source": [
    "hathi_deletion_dir = pathlib.Path(\"data/hathi/deletions\")\n",
    "\n",
    "deletion_count = []\n",
    "\n",
    "start_str = \"===BEGIN ID LIST===\"\n",
    "end_str = \"===END ID LIST===\"\n",
    "\n",
    "for deletion_email in hathi_deletion_dir.glob(\"*.txt\"):\n",
    "    deletion_date = datetime.datetime.strptime(\n",
    "        deletion_email.stem, \"%Y-%m-%d\"\n",
    "    ).date()\n",
    "    contents = deletion_email.open().read()\n",
    "    # use begin/end strings to isolate content of interest\n",
    "    deleted_id_list = contents.split(start_str)[1].split(end_str)[0]\n",
    "    # split on newlines and filter out any empty strings\n",
    "    deleted_ids = [\n",
    "        id for id in deleted_id_list.split(\"\\n\") if id.strip() != \"\"\n",
    "    ]\n",
    "    deletion_count.append({\"date\": deletion_date, \"count\": len(deleted_ids)})\n",
    "\n",
    "deletion_df = (\n",
    "    pl.from_dicts(deletion_count)\n",
    "    .sort(\"date\")\n",
    "    .with_columns(percent=pl.col(\"count\").truediv(total_ht_vols))\n",
    ")\n",
    "deletion_df"
   ]
  }
 ],
 "metadata": {},
 "nbformat": 4,
 "nbformat_minor": 5
}
